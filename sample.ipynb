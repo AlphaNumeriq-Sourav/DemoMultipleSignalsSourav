{
 "cells": [
  {
   "cell_type": "code",
   "execution_count": 1,
   "metadata": {},
   "outputs": [],
   "source": [
    "import pandas as pd\n",
    "df_open_signal = pd.DataFrame(columns = ['ActiveChoice'])"
   ]
  },
  {
   "cell_type": "code",
   "execution_count": 2,
   "metadata": {},
   "outputs": [
    {
     "data": {
      "text/html": [
       "<div>\n",
       "<style scoped>\n",
       "    .dataframe tbody tr th:only-of-type {\n",
       "        vertical-align: middle;\n",
       "    }\n",
       "\n",
       "    .dataframe tbody tr th {\n",
       "        vertical-align: top;\n",
       "    }\n",
       "\n",
       "    .dataframe thead th {\n",
       "        text-align: right;\n",
       "    }\n",
       "</style>\n",
       "<table border=\"1\" class=\"dataframe\">\n",
       "  <thead>\n",
       "    <tr style=\"text-align: right;\">\n",
       "      <th></th>\n",
       "      <th>ActiveChoice</th>\n",
       "    </tr>\n",
       "  </thead>\n",
       "  <tbody>\n",
       "  </tbody>\n",
       "</table>\n",
       "</div>"
      ],
      "text/plain": [
       "Empty DataFrame\n",
       "Columns: [ActiveChoice]\n",
       "Index: []"
      ]
     },
     "execution_count": 2,
     "metadata": {},
     "output_type": "execute_result"
    }
   ],
   "source": [
    "df_open_signal"
   ]
  },
  {
   "cell_type": "code",
   "execution_count": 6,
   "metadata": {},
   "outputs": [],
   "source": [
    "df_open_signal.loc[0] = [1]"
   ]
  },
  {
   "cell_type": "code",
   "execution_count": 7,
   "metadata": {},
   "outputs": [
    {
     "data": {
      "text/html": [
       "<div>\n",
       "<style scoped>\n",
       "    .dataframe tbody tr th:only-of-type {\n",
       "        vertical-align: middle;\n",
       "    }\n",
       "\n",
       "    .dataframe tbody tr th {\n",
       "        vertical-align: top;\n",
       "    }\n",
       "\n",
       "    .dataframe thead th {\n",
       "        text-align: right;\n",
       "    }\n",
       "</style>\n",
       "<table border=\"1\" class=\"dataframe\">\n",
       "  <thead>\n",
       "    <tr style=\"text-align: right;\">\n",
       "      <th></th>\n",
       "      <th>ActiveChoice</th>\n",
       "    </tr>\n",
       "  </thead>\n",
       "  <tbody>\n",
       "    <tr>\n",
       "      <th>0</th>\n",
       "      <td>1</td>\n",
       "    </tr>\n",
       "  </tbody>\n",
       "</table>\n",
       "</div>"
      ],
      "text/plain": [
       "   ActiveChoice\n",
       "0             1"
      ]
     },
     "execution_count": 7,
     "metadata": {},
     "output_type": "execute_result"
    }
   ],
   "source": [
    "df_open_signal"
   ]
  },
  {
   "cell_type": "code",
   "execution_count": 13,
   "metadata": {},
   "outputs": [
    {
     "data": {
      "text/html": [
       "<div>\n",
       "<style scoped>\n",
       "    .dataframe tbody tr th:only-of-type {\n",
       "        vertical-align: middle;\n",
       "    }\n",
       "\n",
       "    .dataframe tbody tr th {\n",
       "        vertical-align: top;\n",
       "    }\n",
       "\n",
       "    .dataframe thead th {\n",
       "        text-align: right;\n",
       "    }\n",
       "</style>\n",
       "<table border=\"1\" class=\"dataframe\">\n",
       "  <thead>\n",
       "    <tr style=\"text-align: right;\">\n",
       "      <th></th>\n",
       "      <th>ActiveChoice</th>\n",
       "    </tr>\n",
       "  </thead>\n",
       "  <tbody>\n",
       "    <tr>\n",
       "      <th>0</th>\n",
       "      <td>1</td>\n",
       "    </tr>\n",
       "  </tbody>\n",
       "</table>\n",
       "</div>"
      ],
      "text/plain": [
       "   ActiveChoice\n",
       "0             1"
      ]
     },
     "execution_count": 13,
     "metadata": {},
     "output_type": "execute_result"
    }
   ],
   "source": [
    "df_open_signal"
   ]
  },
  {
   "cell_type": "code",
   "execution_count": 14,
   "metadata": {},
   "outputs": [
    {
     "data": {
      "text/html": [
       "<div>\n",
       "<style scoped>\n",
       "    .dataframe tbody tr th:only-of-type {\n",
       "        vertical-align: middle;\n",
       "    }\n",
       "\n",
       "    .dataframe tbody tr th {\n",
       "        vertical-align: top;\n",
       "    }\n",
       "\n",
       "    .dataframe thead th {\n",
       "        text-align: right;\n",
       "    }\n",
       "</style>\n",
       "<table border=\"1\" class=\"dataframe\">\n",
       "  <thead>\n",
       "    <tr style=\"text-align: right;\">\n",
       "      <th></th>\n",
       "      <th>ActiveChoice</th>\n",
       "    </tr>\n",
       "  </thead>\n",
       "  <tbody>\n",
       "  </tbody>\n",
       "</table>\n",
       "</div>"
      ],
      "text/plain": [
       "Empty DataFrame\n",
       "Columns: [ActiveChoice]\n",
       "Index: []"
      ]
     },
     "execution_count": 14,
     "metadata": {},
     "output_type": "execute_result"
    }
   ],
   "source": [
    "df_open_signal[df_open_signal.ActiveChoice!= 1]"
   ]
  },
  {
   "cell_type": "code",
   "execution_count": 1,
   "metadata": {},
   "outputs": [],
   "source": [
    "A = [[1,0,-7], \n",
    "     [0,0,-8] , \n",
    "     [0,0,9]]"
   ]
  },
  {
   "cell_type": "code",
   "execution_count": 8,
   "metadata": {},
   "outputs": [
    {
     "name": "stdout",
     "output_type": "stream",
     "text": [
      "0 0\n",
      "0 1\n",
      "0 2\n",
      "\n",
      "\n",
      "1 0\n",
      "1 1\n",
      "1 2\n",
      "\n",
      "\n",
      "2 0\n",
      "2 1\n",
      "2 2\n",
      "\n",
      "\n"
     ]
    }
   ],
   "source": [
    "cond = True\n",
    "for i in range(len(A)):\n",
    "    for j in range(len(A[i])):\n",
    "        print(i,j)\n",
    "        if j >= i:\n",
    "            continue\n",
    "        \n",
    "        if A[i][j] != 0:\n",
    "            cond = False\n",
    "            \n",
    "    print('\\n')"
   ]
  },
  {
   "cell_type": "code",
   "execution_count": 7,
   "metadata": {},
   "outputs": [
    {
     "data": {
      "text/plain": [
       "True"
      ]
     },
     "execution_count": 7,
     "metadata": {},
     "output_type": "execute_result"
    }
   ],
   "source": [
    "cond"
   ]
  },
  {
   "cell_type": "code",
   "execution_count": 13,
   "metadata": {},
   "outputs": [],
   "source": [
    "a = [1,2,3]"
   ]
  },
  {
   "cell_type": "code",
   "execution_count": 14,
   "metadata": {},
   "outputs": [],
   "source": [
    "a.extend([1,2,3])"
   ]
  },
  {
   "cell_type": "code",
   "execution_count": 15,
   "metadata": {},
   "outputs": [
    {
     "data": {
      "text/plain": [
       "[1, 2, 3, 1, 2, 3]"
      ]
     },
     "execution_count": 15,
     "metadata": {},
     "output_type": "execute_result"
    }
   ],
   "source": [
    "a"
   ]
  },
  {
   "cell_type": "code",
   "execution_count": 1,
   "metadata": {},
   "outputs": [
    {
     "data": {
      "text/plain": [
       "True"
      ]
     },
     "execution_count": 1,
     "metadata": {},
     "output_type": "execute_result"
    }
   ],
   "source": [
    "import MetaTrader5 as mt5\n",
    "login = 25088141\n",
    "password = 'N3W*f%Ts??kF'\n",
    "server = 'Tickmill-Demo'\n",
    "path = r'C:\\Program Files\\MetaTrader 5\\terminal64.exe'\n",
    "mt5.initialize( login = login , password = password, server = server)"
   ]
  },
  {
   "cell_type": "code",
   "execution_count": 2,
   "metadata": {},
   "outputs": [],
   "source": [
    "def market_order(symbol, volume, order_type,comment,magic, **kwargs):\n",
    "    tick = mt5.symbol_info_tick(symbol)\n",
    "    order_dict = {'buy': 0, 'sell': 1}\n",
    "    price_dict = {'buy': tick.ask, 'sell': tick.bid}\n",
    "\n",
    "    request = {\n",
    "        \"action\": mt5.TRADE_ACTION_DEAL,\n",
    "        \"symbol\": symbol,\n",
    "        \"volume\": volume,\n",
    "        \"type\": order_dict[order_type],\n",
    "        \"price\": price_dict[order_type],\n",
    "        \"deviation\": 2,\n",
    "        \"magic\": magic,\n",
    "        \"comment\":comment,\n",
    "        \"type_time\": mt5.ORDER_TIME_GTC,\n",
    "        \"type_filling\": mt5.ORDER_FILLING_IOC,\n",
    "    }\n",
    "\n",
    "    order_result = mt5.order_send(request)\n",
    "\n",
    "    return order_result"
   ]
  },
  {
   "cell_type": "code",
   "execution_count": 11,
   "metadata": {},
   "outputs": [],
   "source": [
    "od = market_order('AAPL',1.0 ,'buy' , 'sss',3001)"
   ]
  },
  {
   "cell_type": "code",
   "execution_count": 13,
   "metadata": {},
   "outputs": [
    {
     "data": {
      "text/plain": [
       "'Market closed'"
      ]
     },
     "execution_count": 13,
     "metadata": {},
     "output_type": "execute_result"
    }
   ],
   "source": [
    "od.comment"
   ]
  },
  {
   "cell_type": "code",
   "execution_count": 7,
   "metadata": {},
   "outputs": [],
   "source": [
    "# function to close an order base don ticket id\n",
    "def close_order(ticket):\n",
    "    positions = mt5.positions_get()\n",
    "\n",
    "    for pos in positions:\n",
    "        tick = mt5.symbol_info_tick(pos.symbol)\n",
    "        type_dict = {0: 1, 1: 0}  # 0 represents buy, 1 represents sell - inverting order_type to close the position\n",
    "        price_dict = {0: tick.bid, 1: tick.ask}\n",
    "\n",
    "        if pos.ticket == ticket:\n",
    "            request = {\n",
    "                \"action\": mt5.TRADE_ACTION_DEAL,\n",
    "                \"position\": pos.ticket,\n",
    "                \"symbol\": pos.symbol,\n",
    "                \"volume\": pos.volume,\n",
    "                \"type\": type_dict[pos.type],\n",
    "                \"price\": price_dict[pos.type],\n",
    "                \"deviation\": 2,\n",
    "                \n",
    "                \n",
    "                \"type_time\": mt5.ORDER_TIME_GTC,\n",
    "                \"type_filling\": mt5.ORDER_FILLING_IOC,\n",
    "            }\n",
    "\n",
    "            order_result = mt5.order_send(request)\n",
    "\n",
    "            return order_result\n",
    "\n",
    "    return 'Ticket does not exist'"
   ]
  },
  {
   "cell_type": "code",
   "execution_count": 10,
   "metadata": {},
   "outputs": [
    {
     "data": {
      "text/plain": [
       "'Ticket does not exist'"
      ]
     },
     "execution_count": 10,
     "metadata": {},
     "output_type": "execute_result"
    }
   ],
   "source": [
    "close_order(od.order)"
   ]
  },
  {
   "cell_type": "code",
   "execution_count": 9,
   "metadata": {},
   "outputs": [
    {
     "data": {
      "text/plain": [
       "OrderSendResult(retcode=10009, deal=26649761, order=33544054, volume=0.1, price=1.08438, bid=0.0, ask=0.0, comment='Request executed', request_id=3927976766, retcode_external=0, request=TradeRequest(action=1, magic=3001, order=0, symbol='EURUSD', volume=0.1, price=1.08438, stoplimit=0.0, sl=0.0, tp=0.0, deviation=2, type=0, type_filling=1, type_time=0, expiration=0, comment='sss', position=0, position_by=0))"
      ]
     },
     "execution_count": 9,
     "metadata": {},
     "output_type": "execute_result"
    }
   ],
   "source": [
    "od"
   ]
  },
  {
   "cell_type": "code",
   "execution_count": 35,
   "metadata": {},
   "outputs": [
    {
     "data": {
      "text/plain": [
       "datetime.datetime(2024, 1, 29, 17, 13, 23)"
      ]
     },
     "execution_count": 35,
     "metadata": {},
     "output_type": "execute_result"
    }
   ],
   "source": [
    "from datetime import datetime , timedelta\n",
    "datetime.fromtimestamp(mt5.symbol_info_tick('EURUSD').time)"
   ]
  },
  {
   "cell_type": "code",
   "execution_count": 40,
   "metadata": {},
   "outputs": [],
   "source": [
    "time1 = (datetime.fromtimestamp(mt5.symbol_info_tick('EURUSD').time) - timedelta(hours=5.5))"
   ]
  },
  {
   "cell_type": "code",
   "execution_count": 41,
   "metadata": {},
   "outputs": [
    {
     "data": {
      "text/plain": [
       "datetime.datetime(2024, 1, 29, 11, 43, 43)"
      ]
     },
     "execution_count": 41,
     "metadata": {},
     "output_type": "execute_result"
    }
   ],
   "source": [
    "def get_gp(x):\n",
    "    x = str(x)\n",
    "    sumx = 0\n",
    "    nos = []\n",
    "    for i in x:\n",
    "        nos.append(int(i))\n",
    "    \n",
    "    if sum(nos) = max(nos):\n",
    "        return True\n",
    "    else"
   ]
  },
  {
   "cell_type": "code",
   "execution_count": 21,
   "metadata": {},
   "outputs": [],
   "source": [
    "def get_solution(x,y,g):\n",
    "    sum = 0\n",
    "    for i in range(x,y+1):\n",
    "        sum+=i\n",
    "    return sum - (g)"
   ]
  },
  {
   "cell_type": "code",
   "execution_count": 24,
   "metadata": {},
   "outputs": [],
   "source": [
    "\n",
    "def is_golden_price(num):\n",
    "    num_str = str(num)\n",
    "    digit_sum = sum(int(digit) for digit in num_str)\n",
    "    highest_digit = max(int(digit) for digit in num_str)\n",
    "    return digit_sum - highest_digit == highest_digit\n",
    "\n",
    "def find_next_golden_price(starting_number):\n",
    "    current_number = starting_number\n",
    "    while True:\n",
    "        if is_golden_price(current_number):\n",
    "            return current_number\n",
    "        else:\n",
    "            current_number += 1"
   ]
  },
  {
   "cell_type": "code",
   "execution_count": 27,
   "metadata": {},
   "outputs": [
    {
     "data": {
      "text/plain": [
       "125"
      ]
     },
     "execution_count": 27,
     "metadata": {},
     "output_type": "execute_result"
    }
   ],
   "source": [
    "x = int(input())\n",
    "y = int(input())\n",
    "g = find_next_golden_price(x)\n",
    "get_solution(x,y, g)\n",
    "\n"
   ]
  },
  {
   "cell_type": "code",
   "execution_count": 17,
   "metadata": {},
   "outputs": [
    {
     "data": {
      "text/plain": [
       "11"
      ]
     },
     "execution_count": 17,
     "metadata": {},
     "output_type": "execute_result"
    }
   ],
   "source": [
    "next_golden_price"
   ]
  },
  {
   "cell_type": "code",
   "execution_count": 1,
   "metadata": {},
   "outputs": [],
   "source": [
    "import pandas as pd"
   ]
  },
  {
   "cell_type": "code",
   "execution_count": 4,
   "metadata": {},
   "outputs": [],
   "source": [
    "td = pd.read_csv(r\"C:\\Users\\soura\\Downloads\\td_kite.csv\")"
   ]
  },
  {
   "cell_type": "code",
   "execution_count": 9,
   "metadata": {},
   "outputs": [],
   "source": [
    "pnl = pd.read_excel(r\"C:\\Users\\soura\\Downloads\\pnl_kite.xlsx\")"
   ]
  },
  {
   "cell_type": "code",
   "execution_count": 28,
   "metadata": {},
   "outputs": [],
   "source": [
    "pnl  = pnl[pnl.Symbol.str.find(\"BANKNIFTY\") < 0].reset_index(drop=True)"
   ]
  },
  {
   "cell_type": "code",
   "execution_count": 23,
   "metadata": {},
   "outputs": [],
   "source": [
    "td['trade_date'] = pd.to_datetime((td['trade_date']))"
   ]
  },
  {
   "cell_type": "code",
   "execution_count": 29,
   "metadata": {},
   "outputs": [],
   "source": [
    "td = td[(td.trade_type == \"buy\") & (td.symbol.str.find(\"BANKNIFTY\") < 0)].drop_duplicates(subset='symbol').sort_values(by='trade_date').reset_index(drop=True)"
   ]
  },
  {
   "cell_type": "code",
   "execution_count": 48,
   "metadata": {},
   "outputs": [
    {
     "data": {
      "text/html": [
       "<div>\n",
       "<style scoped>\n",
       "    .dataframe tbody tr th:only-of-type {\n",
       "        vertical-align: middle;\n",
       "    }\n",
       "\n",
       "    .dataframe tbody tr th {\n",
       "        vertical-align: top;\n",
       "    }\n",
       "\n",
       "    .dataframe thead th {\n",
       "        text-align: right;\n",
       "    }\n",
       "</style>\n",
       "<table border=\"1\" class=\"dataframe\">\n",
       "  <thead>\n",
       "    <tr style=\"text-align: right;\">\n",
       "      <th></th>\n",
       "      <th>Symbol</th>\n",
       "      <th>ISIN</th>\n",
       "      <th>Quantity</th>\n",
       "      <th>Buy Value</th>\n",
       "      <th>Sell Value</th>\n",
       "      <th>Realized P&amp;L</th>\n",
       "      <th>Realized P&amp;L Pct.</th>\n",
       "      <th>Previous Closing Price</th>\n",
       "      <th>Open Quantity</th>\n",
       "      <th>Open Quantity Type</th>\n",
       "      <th>Open Value</th>\n",
       "      <th>Unrealized P&amp;L</th>\n",
       "      <th>Unrealized P&amp;L Pct.</th>\n",
       "    </tr>\n",
       "  </thead>\n",
       "  <tbody>\n",
       "    <tr>\n",
       "      <th>0</th>\n",
       "      <td>ABB23OCT4050PE</td>\n",
       "      <td>NaN</td>\n",
       "      <td>750</td>\n",
       "      <td>38250.0000</td>\n",
       "      <td>45750.0000</td>\n",
       "      <td>7500.0</td>\n",
       "      <td>19.6078</td>\n",
       "      <td>0.0</td>\n",
       "      <td>0</td>\n",
       "      <td>NaN</td>\n",
       "      <td>0</td>\n",
       "      <td>0</td>\n",
       "      <td>0.0</td>\n",
       "    </tr>\n",
       "    <tr>\n",
       "      <th>1</th>\n",
       "      <td>ABFRL23AUG215CE</td>\n",
       "      <td>NaN</td>\n",
       "      <td>2600</td>\n",
       "      <td>12480.0000</td>\n",
       "      <td>18200.0000</td>\n",
       "      <td>5720.0</td>\n",
       "      <td>45.8333</td>\n",
       "      <td>0.0</td>\n",
       "      <td>0</td>\n",
       "      <td>NaN</td>\n",
       "      <td>0</td>\n",
       "      <td>0</td>\n",
       "      <td>0.0</td>\n",
       "    </tr>\n",
       "    <tr>\n",
       "      <th>2</th>\n",
       "      <td>ADANIPORTS23NOV800CE</td>\n",
       "      <td>NaN</td>\n",
       "      <td>2400</td>\n",
       "      <td>50400.0000</td>\n",
       "      <td>56800.0008</td>\n",
       "      <td>6400.0</td>\n",
       "      <td>12.6984</td>\n",
       "      <td>0.0</td>\n",
       "      <td>0</td>\n",
       "      <td>NaN</td>\n",
       "      <td>0</td>\n",
       "      <td>0</td>\n",
       "      <td>0.0</td>\n",
       "    </tr>\n",
       "    <tr>\n",
       "      <th>3</th>\n",
       "      <td>AMBUJACEM23AUG510CE</td>\n",
       "      <td>NaN</td>\n",
       "      <td>59400</td>\n",
       "      <td>473760.0252</td>\n",
       "      <td>460439.9910</td>\n",
       "      <td>-13320.0</td>\n",
       "      <td>-2.8116</td>\n",
       "      <td>0.0</td>\n",
       "      <td>0</td>\n",
       "      <td>NaN</td>\n",
       "      <td>0</td>\n",
       "      <td>0</td>\n",
       "      <td>0.0</td>\n",
       "    </tr>\n",
       "    <tr>\n",
       "      <th>4</th>\n",
       "      <td>AMBUJACEM23JUL440CE</td>\n",
       "      <td>NaN</td>\n",
       "      <td>1800</td>\n",
       "      <td>9540.0000</td>\n",
       "      <td>10350.0000</td>\n",
       "      <td>810.0</td>\n",
       "      <td>8.4906</td>\n",
       "      <td>0.0</td>\n",
       "      <td>0</td>\n",
       "      <td>NaN</td>\n",
       "      <td>0</td>\n",
       "      <td>0</td>\n",
       "      <td>0.0</td>\n",
       "    </tr>\n",
       "    <tr>\n",
       "      <th>...</th>\n",
       "      <td>...</td>\n",
       "      <td>...</td>\n",
       "      <td>...</td>\n",
       "      <td>...</td>\n",
       "      <td>...</td>\n",
       "      <td>...</td>\n",
       "      <td>...</td>\n",
       "      <td>...</td>\n",
       "      <td>...</td>\n",
       "      <td>...</td>\n",
       "      <td>...</td>\n",
       "      <td>...</td>\n",
       "      <td>...</td>\n",
       "    </tr>\n",
       "    <tr>\n",
       "      <th>102</th>\n",
       "      <td>ULTRACEMCO23DEC9450CE</td>\n",
       "      <td>NaN</td>\n",
       "      <td>300</td>\n",
       "      <td>47400.0000</td>\n",
       "      <td>48810.0000</td>\n",
       "      <td>1410.0</td>\n",
       "      <td>2.9747</td>\n",
       "      <td>0.0</td>\n",
       "      <td>0</td>\n",
       "      <td>NaN</td>\n",
       "      <td>0</td>\n",
       "      <td>0</td>\n",
       "      <td>0.0</td>\n",
       "    </tr>\n",
       "    <tr>\n",
       "      <th>103</th>\n",
       "      <td>ULTRACEMCO23SEP8700CE</td>\n",
       "      <td>NaN</td>\n",
       "      <td>300</td>\n",
       "      <td>46395.0000</td>\n",
       "      <td>29400.0000</td>\n",
       "      <td>-16995.0</td>\n",
       "      <td>-36.6311</td>\n",
       "      <td>0.0</td>\n",
       "      <td>0</td>\n",
       "      <td>NaN</td>\n",
       "      <td>0</td>\n",
       "      <td>0</td>\n",
       "      <td>0.0</td>\n",
       "    </tr>\n",
       "    <tr>\n",
       "      <th>104</th>\n",
       "      <td>ULTRACEMCO24FEB9800PE</td>\n",
       "      <td>NaN</td>\n",
       "      <td>300</td>\n",
       "      <td>47400.0000</td>\n",
       "      <td>52284.9999</td>\n",
       "      <td>4885.0</td>\n",
       "      <td>10.3059</td>\n",
       "      <td>0.0</td>\n",
       "      <td>0</td>\n",
       "      <td>NaN</td>\n",
       "      <td>0</td>\n",
       "      <td>0</td>\n",
       "      <td>0.0</td>\n",
       "    </tr>\n",
       "    <tr>\n",
       "      <th>105</th>\n",
       "      <td>UPL23SEP650CE</td>\n",
       "      <td>NaN</td>\n",
       "      <td>3900</td>\n",
       "      <td>26130.0000</td>\n",
       "      <td>5265.0000</td>\n",
       "      <td>-20865.0</td>\n",
       "      <td>-79.8507</td>\n",
       "      <td>0.0</td>\n",
       "      <td>0</td>\n",
       "      <td>NaN</td>\n",
       "      <td>0</td>\n",
       "      <td>0</td>\n",
       "      <td>0.0</td>\n",
       "    </tr>\n",
       "    <tr>\n",
       "      <th>106</th>\n",
       "      <td>WIPRO23OCT430CE</td>\n",
       "      <td>NaN</td>\n",
       "      <td>9000</td>\n",
       "      <td>60300.0000</td>\n",
       "      <td>33525.0000</td>\n",
       "      <td>-26775.0</td>\n",
       "      <td>-44.4030</td>\n",
       "      <td>0.0</td>\n",
       "      <td>0</td>\n",
       "      <td>NaN</td>\n",
       "      <td>0</td>\n",
       "      <td>0</td>\n",
       "      <td>0.0</td>\n",
       "    </tr>\n",
       "  </tbody>\n",
       "</table>\n",
       "<p>107 rows × 13 columns</p>\n",
       "</div>"
      ],
      "text/plain": [
       "                    Symbol  ISIN  Quantity    Buy Value   Sell Value  \\\n",
       "0           ABB23OCT4050PE   NaN       750   38250.0000   45750.0000   \n",
       "1          ABFRL23AUG215CE   NaN      2600   12480.0000   18200.0000   \n",
       "2     ADANIPORTS23NOV800CE   NaN      2400   50400.0000   56800.0008   \n",
       "3      AMBUJACEM23AUG510CE   NaN     59400  473760.0252  460439.9910   \n",
       "4      AMBUJACEM23JUL440CE   NaN      1800    9540.0000   10350.0000   \n",
       "..                     ...   ...       ...          ...          ...   \n",
       "102  ULTRACEMCO23DEC9450CE   NaN       300   47400.0000   48810.0000   \n",
       "103  ULTRACEMCO23SEP8700CE   NaN       300   46395.0000   29400.0000   \n",
       "104  ULTRACEMCO24FEB9800PE   NaN       300   47400.0000   52284.9999   \n",
       "105          UPL23SEP650CE   NaN      3900   26130.0000    5265.0000   \n",
       "106        WIPRO23OCT430CE   NaN      9000   60300.0000   33525.0000   \n",
       "\n",
       "     Realized P&L  Realized P&L Pct.  Previous Closing Price  Open Quantity  \\\n",
       "0          7500.0            19.6078                     0.0              0   \n",
       "1          5720.0            45.8333                     0.0              0   \n",
       "2          6400.0            12.6984                     0.0              0   \n",
       "3        -13320.0            -2.8116                     0.0              0   \n",
       "4           810.0             8.4906                     0.0              0   \n",
       "..            ...                ...                     ...            ...   \n",
       "102        1410.0             2.9747                     0.0              0   \n",
       "103      -16995.0           -36.6311                     0.0              0   \n",
       "104        4885.0            10.3059                     0.0              0   \n",
       "105      -20865.0           -79.8507                     0.0              0   \n",
       "106      -26775.0           -44.4030                     0.0              0   \n",
       "\n",
       "    Open Quantity Type  Open Value  Unrealized P&L  Unrealized P&L Pct.  \n",
       "0                  NaN           0               0                  0.0  \n",
       "1                  NaN           0               0                  0.0  \n",
       "2                  NaN           0               0                  0.0  \n",
       "3                  NaN           0               0                  0.0  \n",
       "4                  NaN           0               0                  0.0  \n",
       "..                 ...         ...             ...                  ...  \n",
       "102                NaN           0               0                  0.0  \n",
       "103                NaN           0               0                  0.0  \n",
       "104                NaN           0               0                  0.0  \n",
       "105                NaN           0               0                  0.0  \n",
       "106                NaN           0               0                  0.0  \n",
       "\n",
       "[107 rows x 13 columns]"
      ]
     },
     "execution_count": 48,
     "metadata": {},
     "output_type": "execute_result"
    }
   ],
   "source": [
    "pnl"
   ]
  },
  {
   "cell_type": "code",
   "execution_count": 44,
   "metadata": {},
   "outputs": [],
   "source": [
    "td.columns = [\"Symbol\",'isin', 'trade_date', 'exchange', 'segment', 'series', 'trade_type',\n",
    "       'auction', 'quantity', 'price', 'trade_id', 'order_id',\n",
    "       'order_execution_time', 'expiry_date']"
   ]
  },
  {
   "cell_type": "code",
   "execution_count": 49,
   "metadata": {},
   "outputs": [
    {
     "data": {
      "text/html": [
       "<div>\n",
       "<style scoped>\n",
       "    .dataframe tbody tr th:only-of-type {\n",
       "        vertical-align: middle;\n",
       "    }\n",
       "\n",
       "    .dataframe tbody tr th {\n",
       "        vertical-align: top;\n",
       "    }\n",
       "\n",
       "    .dataframe thead th {\n",
       "        text-align: right;\n",
       "    }\n",
       "</style>\n",
       "<table border=\"1\" class=\"dataframe\">\n",
       "  <thead>\n",
       "    <tr style=\"text-align: right;\">\n",
       "      <th></th>\n",
       "      <th>Symbol</th>\n",
       "      <th>isin</th>\n",
       "      <th>trade_date</th>\n",
       "      <th>exchange</th>\n",
       "      <th>segment</th>\n",
       "      <th>series</th>\n",
       "      <th>trade_type</th>\n",
       "      <th>auction</th>\n",
       "      <th>quantity</th>\n",
       "      <th>price</th>\n",
       "      <th>trade_id</th>\n",
       "      <th>order_id</th>\n",
       "      <th>order_execution_time</th>\n",
       "      <th>expiry_date</th>\n",
       "    </tr>\n",
       "  </thead>\n",
       "  <tbody>\n",
       "    <tr>\n",
       "      <th>0</th>\n",
       "      <td>BAJAJFINSV23JUL1660CE</td>\n",
       "      <td>NaN</td>\n",
       "      <td>2023-07-19</td>\n",
       "      <td>NSE</td>\n",
       "      <td>FO</td>\n",
       "      <td>NaN</td>\n",
       "      <td>buy</td>\n",
       "      <td>False</td>\n",
       "      <td>500.0</td>\n",
       "      <td>24.50</td>\n",
       "      <td>860649536</td>\n",
       "      <td>2000000141247036</td>\n",
       "      <td>2023-07-19T15:15:18</td>\n",
       "      <td>2023-07-27</td>\n",
       "    </tr>\n",
       "    <tr>\n",
       "      <th>1</th>\n",
       "      <td>GRASIM23JUL1840CE</td>\n",
       "      <td>NaN</td>\n",
       "      <td>2023-07-20</td>\n",
       "      <td>NSE</td>\n",
       "      <td>FO</td>\n",
       "      <td>NaN</td>\n",
       "      <td>buy</td>\n",
       "      <td>False</td>\n",
       "      <td>475.0</td>\n",
       "      <td>19.35</td>\n",
       "      <td>975766150</td>\n",
       "      <td>2500000116218309</td>\n",
       "      <td>2023-07-20T15:16:58</td>\n",
       "      <td>2023-07-27</td>\n",
       "    </tr>\n",
       "    <tr>\n",
       "      <th>2</th>\n",
       "      <td>GAIL23JUL125CE</td>\n",
       "      <td>NaN</td>\n",
       "      <td>2023-07-25</td>\n",
       "      <td>NSE</td>\n",
       "      <td>FO</td>\n",
       "      <td>NaN</td>\n",
       "      <td>buy</td>\n",
       "      <td>False</td>\n",
       "      <td>9150.0</td>\n",
       "      <td>0.10</td>\n",
       "      <td>975755247</td>\n",
       "      <td>2500000060153103</td>\n",
       "      <td>2023-07-25T12:11:18</td>\n",
       "      <td>2023-07-27</td>\n",
       "    </tr>\n",
       "    <tr>\n",
       "      <th>3</th>\n",
       "      <td>GAIL23AUG125CE</td>\n",
       "      <td>NaN</td>\n",
       "      <td>2023-07-25</td>\n",
       "      <td>NSE</td>\n",
       "      <td>FO</td>\n",
       "      <td>NaN</td>\n",
       "      <td>buy</td>\n",
       "      <td>False</td>\n",
       "      <td>9150.0</td>\n",
       "      <td>1.80</td>\n",
       "      <td>975756433</td>\n",
       "      <td>2500000060294312</td>\n",
       "      <td>2023-07-25T12:11:50</td>\n",
       "      <td>2023-08-31</td>\n",
       "    </tr>\n",
       "    <tr>\n",
       "      <th>4</th>\n",
       "      <td>AMBUJACEM23JUL440CE</td>\n",
       "      <td>NaN</td>\n",
       "      <td>2023-07-25</td>\n",
       "      <td>NSE</td>\n",
       "      <td>FO</td>\n",
       "      <td>NaN</td>\n",
       "      <td>buy</td>\n",
       "      <td>False</td>\n",
       "      <td>1800.0</td>\n",
       "      <td>5.30</td>\n",
       "      <td>976472528</td>\n",
       "      <td>2500000128953896</td>\n",
       "      <td>2023-07-25T15:21:04</td>\n",
       "      <td>2023-07-27</td>\n",
       "    </tr>\n",
       "    <tr>\n",
       "      <th>...</th>\n",
       "      <td>...</td>\n",
       "      <td>...</td>\n",
       "      <td>...</td>\n",
       "      <td>...</td>\n",
       "      <td>...</td>\n",
       "      <td>...</td>\n",
       "      <td>...</td>\n",
       "      <td>...</td>\n",
       "      <td>...</td>\n",
       "      <td>...</td>\n",
       "      <td>...</td>\n",
       "      <td>...</td>\n",
       "      <td>...</td>\n",
       "      <td>...</td>\n",
       "    </tr>\n",
       "    <tr>\n",
       "      <th>102</th>\n",
       "      <td>IGL24FEB430CE</td>\n",
       "      <td>NaN</td>\n",
       "      <td>2024-01-29</td>\n",
       "      <td>NSE</td>\n",
       "      <td>FO</td>\n",
       "      <td>NaN</td>\n",
       "      <td>buy</td>\n",
       "      <td>False</td>\n",
       "      <td>1375.0</td>\n",
       "      <td>13.45</td>\n",
       "      <td>929753589</td>\n",
       "      <td>2300000126336271</td>\n",
       "      <td>2024-01-29T15:16:53</td>\n",
       "      <td>2024-02-29</td>\n",
       "    </tr>\n",
       "    <tr>\n",
       "      <th>103</th>\n",
       "      <td>ULTRACEMCO24FEB9800PE</td>\n",
       "      <td>NaN</td>\n",
       "      <td>2024-01-30</td>\n",
       "      <td>NSE</td>\n",
       "      <td>FO</td>\n",
       "      <td>NaN</td>\n",
       "      <td>buy</td>\n",
       "      <td>False</td>\n",
       "      <td>300.0</td>\n",
       "      <td>158.00</td>\n",
       "      <td>929786014</td>\n",
       "      <td>2300000144568716</td>\n",
       "      <td>2024-01-30T15:20:31</td>\n",
       "      <td>2024-02-29</td>\n",
       "    </tr>\n",
       "    <tr>\n",
       "      <th>104</th>\n",
       "      <td>NAUKRI24FEB5300CE</td>\n",
       "      <td>NaN</td>\n",
       "      <td>2024-01-31</td>\n",
       "      <td>NSE</td>\n",
       "      <td>FO</td>\n",
       "      <td>NaN</td>\n",
       "      <td>buy</td>\n",
       "      <td>False</td>\n",
       "      <td>450.0</td>\n",
       "      <td>116.00</td>\n",
       "      <td>883653212</td>\n",
       "      <td>2100000151016437</td>\n",
       "      <td>2024-01-31T15:20:01</td>\n",
       "      <td>2024-02-29</td>\n",
       "    </tr>\n",
       "    <tr>\n",
       "      <th>105</th>\n",
       "      <td>HDFCLIFE24FEB600CE</td>\n",
       "      <td>NaN</td>\n",
       "      <td>2024-02-01</td>\n",
       "      <td>NSE</td>\n",
       "      <td>FO</td>\n",
       "      <td>NaN</td>\n",
       "      <td>buy</td>\n",
       "      <td>False</td>\n",
       "      <td>1100.0</td>\n",
       "      <td>12.20</td>\n",
       "      <td>952793105</td>\n",
       "      <td>2400000163907323</td>\n",
       "      <td>2024-02-01T15:28:40</td>\n",
       "      <td>2024-02-29</td>\n",
       "    </tr>\n",
       "    <tr>\n",
       "      <th>106</th>\n",
       "      <td>NTPC24FEB340CE</td>\n",
       "      <td>NaN</td>\n",
       "      <td>2024-02-02</td>\n",
       "      <td>NSE</td>\n",
       "      <td>FO</td>\n",
       "      <td>NaN</td>\n",
       "      <td>buy</td>\n",
       "      <td>False</td>\n",
       "      <td>9000.0</td>\n",
       "      <td>4.40</td>\n",
       "      <td>884003231</td>\n",
       "      <td>2100000174352046</td>\n",
       "      <td>2024-02-02T15:21:35</td>\n",
       "      <td>2024-02-29</td>\n",
       "    </tr>\n",
       "  </tbody>\n",
       "</table>\n",
       "<p>107 rows × 14 columns</p>\n",
       "</div>"
      ],
      "text/plain": [
       "                    Symbol  isin trade_date exchange segment  series  \\\n",
       "0    BAJAJFINSV23JUL1660CE   NaN 2023-07-19      NSE      FO     NaN   \n",
       "1        GRASIM23JUL1840CE   NaN 2023-07-20      NSE      FO     NaN   \n",
       "2           GAIL23JUL125CE   NaN 2023-07-25      NSE      FO     NaN   \n",
       "3           GAIL23AUG125CE   NaN 2023-07-25      NSE      FO     NaN   \n",
       "4      AMBUJACEM23JUL440CE   NaN 2023-07-25      NSE      FO     NaN   \n",
       "..                     ...   ...        ...      ...     ...     ...   \n",
       "102          IGL24FEB430CE   NaN 2024-01-29      NSE      FO     NaN   \n",
       "103  ULTRACEMCO24FEB9800PE   NaN 2024-01-30      NSE      FO     NaN   \n",
       "104      NAUKRI24FEB5300CE   NaN 2024-01-31      NSE      FO     NaN   \n",
       "105     HDFCLIFE24FEB600CE   NaN 2024-02-01      NSE      FO     NaN   \n",
       "106         NTPC24FEB340CE   NaN 2024-02-02      NSE      FO     NaN   \n",
       "\n",
       "    trade_type  auction  quantity   price   trade_id          order_id  \\\n",
       "0          buy    False     500.0   24.50  860649536  2000000141247036   \n",
       "1          buy    False     475.0   19.35  975766150  2500000116218309   \n",
       "2          buy    False    9150.0    0.10  975755247  2500000060153103   \n",
       "3          buy    False    9150.0    1.80  975756433  2500000060294312   \n",
       "4          buy    False    1800.0    5.30  976472528  2500000128953896   \n",
       "..         ...      ...       ...     ...        ...               ...   \n",
       "102        buy    False    1375.0   13.45  929753589  2300000126336271   \n",
       "103        buy    False     300.0  158.00  929786014  2300000144568716   \n",
       "104        buy    False     450.0  116.00  883653212  2100000151016437   \n",
       "105        buy    False    1100.0   12.20  952793105  2400000163907323   \n",
       "106        buy    False    9000.0    4.40  884003231  2100000174352046   \n",
       "\n",
       "    order_execution_time expiry_date  \n",
       "0    2023-07-19T15:15:18  2023-07-27  \n",
       "1    2023-07-20T15:16:58  2023-07-27  \n",
       "2    2023-07-25T12:11:18  2023-07-27  \n",
       "3    2023-07-25T12:11:50  2023-08-31  \n",
       "4    2023-07-25T15:21:04  2023-07-27  \n",
       "..                   ...         ...  \n",
       "102  2024-01-29T15:16:53  2024-02-29  \n",
       "103  2024-01-30T15:20:31  2024-02-29  \n",
       "104  2024-01-31T15:20:01  2024-02-29  \n",
       "105  2024-02-01T15:28:40  2024-02-29  \n",
       "106  2024-02-02T15:21:35  2024-02-29  \n",
       "\n",
       "[107 rows x 14 columns]"
      ]
     },
     "execution_count": 49,
     "metadata": {},
     "output_type": "execute_result"
    }
   ],
   "source": [
    "td"
   ]
  },
  {
   "cell_type": "code",
   "execution_count": 52,
   "metadata": {},
   "outputs": [],
   "source": [
    "ldf = pd.merge(td , pnl ,on=\"Symbol\")"
   ]
  },
  {
   "cell_type": "code",
   "execution_count": 53,
   "metadata": {},
   "outputs": [
    {
     "data": {
      "text/plain": [
       "Index(['Symbol', 'isin', 'trade_date', 'exchange', 'segment', 'series',\n",
       "       'trade_type', 'auction', 'quantity', 'price', 'trade_id', 'order_id',\n",
       "       'order_execution_time', 'expiry_date', 'ISIN', 'Quantity', 'Buy Value',\n",
       "       'Sell Value', 'Realized P&L', 'Realized P&L Pct.',\n",
       "       'Previous Closing Price', 'Open Quantity', 'Open Quantity Type',\n",
       "       'Open Value', 'Unrealized P&L', 'Unrealized P&L Pct.'],\n",
       "      dtype='object')"
      ]
     },
     "execution_count": 53,
     "metadata": {},
     "output_type": "execute_result"
    }
   ],
   "source": [
    "ldf.columns"
   ]
  },
  {
   "cell_type": "code",
   "execution_count": 54,
   "metadata": {},
   "outputs": [
    {
     "data": {
      "text/html": [
       "<div>\n",
       "<style scoped>\n",
       "    .dataframe tbody tr th:only-of-type {\n",
       "        vertical-align: middle;\n",
       "    }\n",
       "\n",
       "    .dataframe tbody tr th {\n",
       "        vertical-align: top;\n",
       "    }\n",
       "\n",
       "    .dataframe thead th {\n",
       "        text-align: right;\n",
       "    }\n",
       "</style>\n",
       "<table border=\"1\" class=\"dataframe\">\n",
       "  <thead>\n",
       "    <tr style=\"text-align: right;\">\n",
       "      <th></th>\n",
       "      <th>Symbol</th>\n",
       "      <th>isin</th>\n",
       "      <th>trade_date</th>\n",
       "      <th>exchange</th>\n",
       "      <th>segment</th>\n",
       "      <th>series</th>\n",
       "      <th>trade_type</th>\n",
       "      <th>auction</th>\n",
       "      <th>quantity</th>\n",
       "      <th>price</th>\n",
       "      <th>...</th>\n",
       "      <th>Buy Value</th>\n",
       "      <th>Sell Value</th>\n",
       "      <th>Realized P&amp;L</th>\n",
       "      <th>Realized P&amp;L Pct.</th>\n",
       "      <th>Previous Closing Price</th>\n",
       "      <th>Open Quantity</th>\n",
       "      <th>Open Quantity Type</th>\n",
       "      <th>Open Value</th>\n",
       "      <th>Unrealized P&amp;L</th>\n",
       "      <th>Unrealized P&amp;L Pct.</th>\n",
       "    </tr>\n",
       "  </thead>\n",
       "  <tbody>\n",
       "    <tr>\n",
       "      <th>0</th>\n",
       "      <td>BAJAJFINSV23JUL1660CE</td>\n",
       "      <td>NaN</td>\n",
       "      <td>2023-07-19</td>\n",
       "      <td>NSE</td>\n",
       "      <td>FO</td>\n",
       "      <td>NaN</td>\n",
       "      <td>buy</td>\n",
       "      <td>False</td>\n",
       "      <td>500.0</td>\n",
       "      <td>24.50</td>\n",
       "      <td>...</td>\n",
       "      <td>12250.0000</td>\n",
       "      <td>14000.0000</td>\n",
       "      <td>1750.00</td>\n",
       "      <td>14.2857</td>\n",
       "      <td>0.00</td>\n",
       "      <td>0</td>\n",
       "      <td>NaN</td>\n",
       "      <td>0</td>\n",
       "      <td>0</td>\n",
       "      <td>0.0000</td>\n",
       "    </tr>\n",
       "    <tr>\n",
       "      <th>1</th>\n",
       "      <td>GRASIM23JUL1840CE</td>\n",
       "      <td>NaN</td>\n",
       "      <td>2023-07-20</td>\n",
       "      <td>NSE</td>\n",
       "      <td>FO</td>\n",
       "      <td>NaN</td>\n",
       "      <td>buy</td>\n",
       "      <td>False</td>\n",
       "      <td>475.0</td>\n",
       "      <td>19.35</td>\n",
       "      <td>...</td>\n",
       "      <td>9191.2500</td>\n",
       "      <td>2968.7500</td>\n",
       "      <td>-6222.50</td>\n",
       "      <td>-67.7003</td>\n",
       "      <td>0.00</td>\n",
       "      <td>0</td>\n",
       "      <td>NaN</td>\n",
       "      <td>0</td>\n",
       "      <td>0</td>\n",
       "      <td>0.0000</td>\n",
       "    </tr>\n",
       "    <tr>\n",
       "      <th>2</th>\n",
       "      <td>GAIL23JUL125CE</td>\n",
       "      <td>NaN</td>\n",
       "      <td>2023-07-25</td>\n",
       "      <td>NSE</td>\n",
       "      <td>FO</td>\n",
       "      <td>NaN</td>\n",
       "      <td>buy</td>\n",
       "      <td>False</td>\n",
       "      <td>9150.0</td>\n",
       "      <td>0.10</td>\n",
       "      <td>...</td>\n",
       "      <td>915.0000</td>\n",
       "      <td>457.5000</td>\n",
       "      <td>-457.50</td>\n",
       "      <td>-50.0000</td>\n",
       "      <td>0.00</td>\n",
       "      <td>0</td>\n",
       "      <td>NaN</td>\n",
       "      <td>0</td>\n",
       "      <td>0</td>\n",
       "      <td>0.0000</td>\n",
       "    </tr>\n",
       "    <tr>\n",
       "      <th>3</th>\n",
       "      <td>GAIL23AUG125CE</td>\n",
       "      <td>NaN</td>\n",
       "      <td>2023-07-25</td>\n",
       "      <td>NSE</td>\n",
       "      <td>FO</td>\n",
       "      <td>NaN</td>\n",
       "      <td>buy</td>\n",
       "      <td>False</td>\n",
       "      <td>9150.0</td>\n",
       "      <td>1.80</td>\n",
       "      <td>...</td>\n",
       "      <td>16470.0000</td>\n",
       "      <td>17385.0000</td>\n",
       "      <td>915.00</td>\n",
       "      <td>5.5556</td>\n",
       "      <td>0.00</td>\n",
       "      <td>0</td>\n",
       "      <td>NaN</td>\n",
       "      <td>0</td>\n",
       "      <td>0</td>\n",
       "      <td>0.0000</td>\n",
       "    </tr>\n",
       "    <tr>\n",
       "      <th>4</th>\n",
       "      <td>AMBUJACEM23JUL440CE</td>\n",
       "      <td>NaN</td>\n",
       "      <td>2023-07-25</td>\n",
       "      <td>NSE</td>\n",
       "      <td>FO</td>\n",
       "      <td>NaN</td>\n",
       "      <td>buy</td>\n",
       "      <td>False</td>\n",
       "      <td>1800.0</td>\n",
       "      <td>5.30</td>\n",
       "      <td>...</td>\n",
       "      <td>9540.0000</td>\n",
       "      <td>10350.0000</td>\n",
       "      <td>810.00</td>\n",
       "      <td>8.4906</td>\n",
       "      <td>0.00</td>\n",
       "      <td>0</td>\n",
       "      <td>NaN</td>\n",
       "      <td>0</td>\n",
       "      <td>0</td>\n",
       "      <td>0.0000</td>\n",
       "    </tr>\n",
       "    <tr>\n",
       "      <th>...</th>\n",
       "      <td>...</td>\n",
       "      <td>...</td>\n",
       "      <td>...</td>\n",
       "      <td>...</td>\n",
       "      <td>...</td>\n",
       "      <td>...</td>\n",
       "      <td>...</td>\n",
       "      <td>...</td>\n",
       "      <td>...</td>\n",
       "      <td>...</td>\n",
       "      <td>...</td>\n",
       "      <td>...</td>\n",
       "      <td>...</td>\n",
       "      <td>...</td>\n",
       "      <td>...</td>\n",
       "      <td>...</td>\n",
       "      <td>...</td>\n",
       "      <td>...</td>\n",
       "      <td>...</td>\n",
       "      <td>...</td>\n",
       "      <td>...</td>\n",
       "    </tr>\n",
       "    <tr>\n",
       "      <th>102</th>\n",
       "      <td>IGL24FEB430CE</td>\n",
       "      <td>NaN</td>\n",
       "      <td>2024-01-29</td>\n",
       "      <td>NSE</td>\n",
       "      <td>FO</td>\n",
       "      <td>NaN</td>\n",
       "      <td>buy</td>\n",
       "      <td>False</td>\n",
       "      <td>1375.0</td>\n",
       "      <td>13.45</td>\n",
       "      <td>...</td>\n",
       "      <td>55618.7486</td>\n",
       "      <td>70537.5000</td>\n",
       "      <td>14918.75</td>\n",
       "      <td>26.8232</td>\n",
       "      <td>0.00</td>\n",
       "      <td>0</td>\n",
       "      <td>NaN</td>\n",
       "      <td>0</td>\n",
       "      <td>0</td>\n",
       "      <td>0.0000</td>\n",
       "    </tr>\n",
       "    <tr>\n",
       "      <th>103</th>\n",
       "      <td>ULTRACEMCO24FEB9800PE</td>\n",
       "      <td>NaN</td>\n",
       "      <td>2024-01-30</td>\n",
       "      <td>NSE</td>\n",
       "      <td>FO</td>\n",
       "      <td>NaN</td>\n",
       "      <td>buy</td>\n",
       "      <td>False</td>\n",
       "      <td>300.0</td>\n",
       "      <td>158.00</td>\n",
       "      <td>...</td>\n",
       "      <td>47400.0000</td>\n",
       "      <td>52284.9999</td>\n",
       "      <td>4885.00</td>\n",
       "      <td>10.3059</td>\n",
       "      <td>0.00</td>\n",
       "      <td>0</td>\n",
       "      <td>NaN</td>\n",
       "      <td>0</td>\n",
       "      <td>0</td>\n",
       "      <td>0.0000</td>\n",
       "    </tr>\n",
       "    <tr>\n",
       "      <th>104</th>\n",
       "      <td>NAUKRI24FEB5300CE</td>\n",
       "      <td>NaN</td>\n",
       "      <td>2024-01-31</td>\n",
       "      <td>NSE</td>\n",
       "      <td>FO</td>\n",
       "      <td>NaN</td>\n",
       "      <td>buy</td>\n",
       "      <td>False</td>\n",
       "      <td>450.0</td>\n",
       "      <td>116.00</td>\n",
       "      <td>...</td>\n",
       "      <td>52200.0000</td>\n",
       "      <td>71782.5002</td>\n",
       "      <td>19582.50</td>\n",
       "      <td>37.5144</td>\n",
       "      <td>0.00</td>\n",
       "      <td>0</td>\n",
       "      <td>NaN</td>\n",
       "      <td>0</td>\n",
       "      <td>0</td>\n",
       "      <td>0.0000</td>\n",
       "    </tr>\n",
       "    <tr>\n",
       "      <th>105</th>\n",
       "      <td>HDFCLIFE24FEB600CE</td>\n",
       "      <td>NaN</td>\n",
       "      <td>2024-02-01</td>\n",
       "      <td>NSE</td>\n",
       "      <td>FO</td>\n",
       "      <td>NaN</td>\n",
       "      <td>buy</td>\n",
       "      <td>False</td>\n",
       "      <td>1100.0</td>\n",
       "      <td>12.20</td>\n",
       "      <td>...</td>\n",
       "      <td>0.0000</td>\n",
       "      <td>0.0000</td>\n",
       "      <td>0.00</td>\n",
       "      <td>0.0000</td>\n",
       "      <td>8.90</td>\n",
       "      <td>3300</td>\n",
       "      <td>buy</td>\n",
       "      <td>40260</td>\n",
       "      <td>-10890</td>\n",
       "      <td>-27.0492</td>\n",
       "    </tr>\n",
       "    <tr>\n",
       "      <th>106</th>\n",
       "      <td>NTPC24FEB340CE</td>\n",
       "      <td>NaN</td>\n",
       "      <td>2024-02-02</td>\n",
       "      <td>NSE</td>\n",
       "      <td>FO</td>\n",
       "      <td>NaN</td>\n",
       "      <td>buy</td>\n",
       "      <td>False</td>\n",
       "      <td>9000.0</td>\n",
       "      <td>4.40</td>\n",
       "      <td>...</td>\n",
       "      <td>0.0000</td>\n",
       "      <td>0.0000</td>\n",
       "      <td>0.00</td>\n",
       "      <td>0.0000</td>\n",
       "      <td>4.45</td>\n",
       "      <td>9000</td>\n",
       "      <td>buy</td>\n",
       "      <td>39600</td>\n",
       "      <td>450</td>\n",
       "      <td>1.1364</td>\n",
       "    </tr>\n",
       "  </tbody>\n",
       "</table>\n",
       "<p>107 rows × 26 columns</p>\n",
       "</div>"
      ],
      "text/plain": [
       "                    Symbol  isin trade_date exchange segment  series  \\\n",
       "0    BAJAJFINSV23JUL1660CE   NaN 2023-07-19      NSE      FO     NaN   \n",
       "1        GRASIM23JUL1840CE   NaN 2023-07-20      NSE      FO     NaN   \n",
       "2           GAIL23JUL125CE   NaN 2023-07-25      NSE      FO     NaN   \n",
       "3           GAIL23AUG125CE   NaN 2023-07-25      NSE      FO     NaN   \n",
       "4      AMBUJACEM23JUL440CE   NaN 2023-07-25      NSE      FO     NaN   \n",
       "..                     ...   ...        ...      ...     ...     ...   \n",
       "102          IGL24FEB430CE   NaN 2024-01-29      NSE      FO     NaN   \n",
       "103  ULTRACEMCO24FEB9800PE   NaN 2024-01-30      NSE      FO     NaN   \n",
       "104      NAUKRI24FEB5300CE   NaN 2024-01-31      NSE      FO     NaN   \n",
       "105     HDFCLIFE24FEB600CE   NaN 2024-02-01      NSE      FO     NaN   \n",
       "106         NTPC24FEB340CE   NaN 2024-02-02      NSE      FO     NaN   \n",
       "\n",
       "    trade_type  auction  quantity   price  ...   Buy Value  Sell Value  \\\n",
       "0          buy    False     500.0   24.50  ...  12250.0000  14000.0000   \n",
       "1          buy    False     475.0   19.35  ...   9191.2500   2968.7500   \n",
       "2          buy    False    9150.0    0.10  ...    915.0000    457.5000   \n",
       "3          buy    False    9150.0    1.80  ...  16470.0000  17385.0000   \n",
       "4          buy    False    1800.0    5.30  ...   9540.0000  10350.0000   \n",
       "..         ...      ...       ...     ...  ...         ...         ...   \n",
       "102        buy    False    1375.0   13.45  ...  55618.7486  70537.5000   \n",
       "103        buy    False     300.0  158.00  ...  47400.0000  52284.9999   \n",
       "104        buy    False     450.0  116.00  ...  52200.0000  71782.5002   \n",
       "105        buy    False    1100.0   12.20  ...      0.0000      0.0000   \n",
       "106        buy    False    9000.0    4.40  ...      0.0000      0.0000   \n",
       "\n",
       "    Realized P&L Realized P&L Pct.  Previous Closing Price  Open Quantity  \\\n",
       "0        1750.00           14.2857                    0.00              0   \n",
       "1       -6222.50          -67.7003                    0.00              0   \n",
       "2        -457.50          -50.0000                    0.00              0   \n",
       "3         915.00            5.5556                    0.00              0   \n",
       "4         810.00            8.4906                    0.00              0   \n",
       "..           ...               ...                     ...            ...   \n",
       "102     14918.75           26.8232                    0.00              0   \n",
       "103      4885.00           10.3059                    0.00              0   \n",
       "104     19582.50           37.5144                    0.00              0   \n",
       "105         0.00            0.0000                    8.90           3300   \n",
       "106         0.00            0.0000                    4.45           9000   \n",
       "\n",
       "     Open Quantity Type  Open Value  Unrealized P&L  Unrealized P&L Pct.  \n",
       "0                   NaN           0               0               0.0000  \n",
       "1                   NaN           0               0               0.0000  \n",
       "2                   NaN           0               0               0.0000  \n",
       "3                   NaN           0               0               0.0000  \n",
       "4                   NaN           0               0               0.0000  \n",
       "..                  ...         ...             ...                  ...  \n",
       "102                 NaN           0               0               0.0000  \n",
       "103                 NaN           0               0               0.0000  \n",
       "104                 NaN           0               0               0.0000  \n",
       "105                 buy       40260          -10890             -27.0492  \n",
       "106                 buy       39600             450               1.1364  \n",
       "\n",
       "[107 rows x 26 columns]"
      ]
     },
     "execution_count": 54,
     "metadata": {},
     "output_type": "execute_result"
    }
   ],
   "source": [
    "ldf"
   ]
  },
  {
   "cell_type": "code",
   "execution_count": 58,
   "metadata": {},
   "outputs": [],
   "source": [
    "ldf2 = ldf[['trade_date' , 'Symbol' , \"Realized P&L\"]].copy()"
   ]
  },
  {
   "cell_type": "code",
   "execution_count": 63,
   "metadata": {},
   "outputs": [],
   "source": [
    "ldf2  = ldf2[ldf[\"Realized P&L\"] != 0]"
   ]
  },
  {
   "cell_type": "code",
   "execution_count": 87,
   "metadata": {},
   "outputs": [],
   "source": [
    "ldf2 = ldf2[ldf2.Symbol.str.find('DELTA')<0]"
   ]
  },
  {
   "cell_type": "code",
   "execution_count": 97,
   "metadata": {},
   "outputs": [],
   "source": [
    "from datetime import datetime\n",
    "\n",
    "def get_week_of_month(date_string):\n",
    "    # Convert the date string to a datetime object\n",
    "    date_object = date_string\n",
    "\n",
    "    # Calculate the week number within the month\n",
    "    first_day_of_month = datetime(date_object.year, date_object.month, 1)\n",
    "    days_in_first_week = (8 - first_day_of_month.weekday()) % 7\n",
    "    week_number = (date_object.day + days_in_first_week - 1) // 7 + 1\n",
    "\n",
    "    return week_number\n"
   ]
  },
  {
   "cell_type": "code",
   "execution_count": 98,
   "metadata": {},
   "outputs": [
    {
     "name": "stderr",
     "output_type": "stream",
     "text": [
      "C:\\Users\\soura\\AppData\\Local\\Temp\\ipykernel_32612\\908758235.py:1: SettingWithCopyWarning: \n",
      "A value is trying to be set on a copy of a slice from a DataFrame.\n",
      "Try using .loc[row_indexer,col_indexer] = value instead\n",
      "\n",
      "See the caveats in the documentation: https://pandas.pydata.org/pandas-docs/stable/user_guide/indexing.html#returning-a-view-versus-a-copy\n",
      "  ldf2['WeekDay'] = ldf2['trade_date'].dt.weekday\n",
      "C:\\Users\\soura\\AppData\\Local\\Temp\\ipykernel_32612\\908758235.py:2: SettingWithCopyWarning: \n",
      "A value is trying to be set on a copy of a slice from a DataFrame.\n",
      "Try using .loc[row_indexer,col_indexer] = value instead\n",
      "\n",
      "See the caveats in the documentation: https://pandas.pydata.org/pandas-docs/stable/user_guide/indexing.html#returning-a-view-versus-a-copy\n",
      "  ldf2['WeekNo'] = ldf2['trade_date'].apply(get_week_of_month)\n"
     ]
    }
   ],
   "source": [
    "ldf2['WeekDay'] = ldf2['trade_date'].dt.weekday\n",
    "ldf2['WeekNo'] = ldf2['trade_date'].apply(get_week_of_month)"
   ]
  },
  {
   "cell_type": "code",
   "execution_count": 105,
   "metadata": {},
   "outputs": [
    {
     "name": "stdout",
     "output_type": "stream",
     "text": [
      "WeekNo\n",
      "1    2437.500000\n",
      "2    7263.333333\n",
      "3   -6523.250000\n",
      "4    2844.166667\n",
      "5    3716.000000\n",
      "Name: Realized P&L, dtype: float64\n",
      "WeekNo\n",
      "1    2\n",
      "2    3\n",
      "3    5\n",
      "4    3\n",
      "5    5\n",
      "Name: trade_date, dtype: int64\n"
     ]
    },
    {
     "name": "stderr",
     "output_type": "stream",
     "text": [
      "C:\\Users\\soura\\AppData\\Local\\Temp\\ipykernel_32612\\843289565.py:1: FutureWarning: The default value of numeric_only in DataFrameGroupBy.mean is deprecated. In a future version, numeric_only will default to False. Either specify numeric_only or select only columns which should be valid for the function.\n",
      "  print(ldf2[ldf2.WeekDay == 4].groupby(by=\"WeekNo\").mean()['Realized P&L'])\n"
     ]
    }
   ],
   "source": [
    "print(ldf2[ldf2.WeekDay == 4].groupby(by=\"WeekNo\").mean()['Realized P&L'])\n",
    "print(ldf2[ldf2.WeekDay == 4].groupby(by=\"WeekNo\").count()['trade_date'])"
   ]
  },
  {
   "cell_type": "code",
   "execution_count": 106,
   "metadata": {},
   "outputs": [
    {
     "name": "stdout",
     "output_type": "stream",
     "text": [
      "WeekNo\n",
      "1    -4433.636364\n",
      "2      733.656818\n",
      "3    -2624.262963\n",
      "4     2372.380952\n",
      "5     4984.762500\n",
      "6    11300.000000\n",
      "Name: Realized P&L, dtype: float64\n",
      "WeekNo\n",
      "1    11\n",
      "2    22\n",
      "3    27\n",
      "4    21\n",
      "5    20\n",
      "6     1\n",
      "Name: trade_date, dtype: int64\n"
     ]
    },
    {
     "name": "stderr",
     "output_type": "stream",
     "text": [
      "C:\\Users\\soura\\AppData\\Local\\Temp\\ipykernel_32612\\842618130.py:1: FutureWarning: The default value of numeric_only in DataFrameGroupBy.mean is deprecated. In a future version, numeric_only will default to False. Either specify numeric_only or select only columns which should be valid for the function.\n",
      "  print(ldf2.groupby(by=\"WeekNo\").mean()['Realized P&L'])\n"
     ]
    }
   ],
   "source": [
    "print(ldf2.groupby(by=\"WeekNo\").mean()['Realized P&L'])\n",
    "print(ldf2.groupby(by=\"WeekNo\").count()['trade_date'])"
   ]
  },
  {
   "cell_type": "code",
   "execution_count": 110,
   "metadata": {},
   "outputs": [
    {
     "name": "stdout",
     "output_type": "stream",
     "text": [
      "WeekDay\n",
      "0    -795.937500\n",
      "1   -1623.114583\n",
      "2    2638.691304\n",
      "3     959.418000\n",
      "4    1175.625000\n",
      "Name: Realized P&L, dtype: float64\n",
      "WeekDay\n",
      "0    12\n",
      "1    24\n",
      "2    23\n",
      "3    25\n",
      "4    18\n",
      "Name: trade_date, dtype: int64\n"
     ]
    },
    {
     "name": "stderr",
     "output_type": "stream",
     "text": [
      "C:\\Users\\soura\\AppData\\Local\\Temp\\ipykernel_32612\\2434914780.py:1: FutureWarning: The default value of numeric_only in DataFrameGroupBy.mean is deprecated. In a future version, numeric_only will default to False. Either specify numeric_only or select only columns which should be valid for the function.\n",
      "  print(ldf2.groupby(by=\"WeekDay\").mean()['Realized P&L'])\n"
     ]
    }
   ],
   "source": [
    "print(ldf2.groupby(by=\"WeekDay\").mean()['Realized P&L'])\n",
    "print(ldf2.groupby(by=\"WeekDay\").count()['trade_date'])"
   ]
  },
  {
   "cell_type": "code",
   "execution_count": 90,
   "metadata": {},
   "outputs": [
    {
     "data": {
      "text/html": [
       "<div>\n",
       "<style scoped>\n",
       "    .dataframe tbody tr th:only-of-type {\n",
       "        vertical-align: middle;\n",
       "    }\n",
       "\n",
       "    .dataframe tbody tr th {\n",
       "        vertical-align: top;\n",
       "    }\n",
       "\n",
       "    .dataframe thead th {\n",
       "        text-align: right;\n",
       "    }\n",
       "</style>\n",
       "<table border=\"1\" class=\"dataframe\">\n",
       "  <thead>\n",
       "    <tr style=\"text-align: right;\">\n",
       "      <th></th>\n",
       "      <th>trade_date</th>\n",
       "      <th>Symbol</th>\n",
       "      <th>Realized P&amp;L</th>\n",
       "      <th>WeekNo</th>\n",
       "    </tr>\n",
       "    <tr>\n",
       "      <th>WeekDay</th>\n",
       "      <th></th>\n",
       "      <th></th>\n",
       "      <th></th>\n",
       "      <th></th>\n",
       "    </tr>\n",
       "  </thead>\n",
       "  <tbody>\n",
       "    <tr>\n",
       "      <th>0</th>\n",
       "      <td>12</td>\n",
       "      <td>12</td>\n",
       "      <td>12</td>\n",
       "      <td>12</td>\n",
       "    </tr>\n",
       "    <tr>\n",
       "      <th>1</th>\n",
       "      <td>24</td>\n",
       "      <td>24</td>\n",
       "      <td>24</td>\n",
       "      <td>24</td>\n",
       "    </tr>\n",
       "    <tr>\n",
       "      <th>2</th>\n",
       "      <td>23</td>\n",
       "      <td>23</td>\n",
       "      <td>23</td>\n",
       "      <td>23</td>\n",
       "    </tr>\n",
       "    <tr>\n",
       "      <th>3</th>\n",
       "      <td>25</td>\n",
       "      <td>25</td>\n",
       "      <td>25</td>\n",
       "      <td>25</td>\n",
       "    </tr>\n",
       "    <tr>\n",
       "      <th>4</th>\n",
       "      <td>18</td>\n",
       "      <td>18</td>\n",
       "      <td>18</td>\n",
       "      <td>18</td>\n",
       "    </tr>\n",
       "  </tbody>\n",
       "</table>\n",
       "</div>"
      ],
      "text/plain": [
       "         trade_date  Symbol  Realized P&L  WeekNo\n",
       "WeekDay                                          \n",
       "0                12      12            12      12\n",
       "1                24      24            24      24\n",
       "2                23      23            23      23\n",
       "3                25      25            25      25\n",
       "4                18      18            18      18"
      ]
     },
     "execution_count": 90,
     "metadata": {},
     "output_type": "execute_result"
    }
   ],
   "source": [
    "ldf2.groupby(by=\"WeekDay\").count()"
   ]
  },
  {
   "cell_type": "code",
   "execution_count": 80,
   "metadata": {},
   "outputs": [
    {
     "data": {
      "text/html": [
       "<div>\n",
       "<style scoped>\n",
       "    .dataframe tbody tr th:only-of-type {\n",
       "        vertical-align: middle;\n",
       "    }\n",
       "\n",
       "    .dataframe tbody tr th {\n",
       "        vertical-align: top;\n",
       "    }\n",
       "\n",
       "    .dataframe thead th {\n",
       "        text-align: right;\n",
       "    }\n",
       "</style>\n",
       "<table border=\"1\" class=\"dataframe\">\n",
       "  <thead>\n",
       "    <tr style=\"text-align: right;\">\n",
       "      <th></th>\n",
       "      <th>trade_date</th>\n",
       "      <th>Symbol</th>\n",
       "      <th>Realized P&amp;L</th>\n",
       "      <th>WeekDay</th>\n",
       "      <th>WeekNo</th>\n",
       "    </tr>\n",
       "  </thead>\n",
       "  <tbody>\n",
       "    <tr>\n",
       "      <th>0</th>\n",
       "      <td>2023-07-19</td>\n",
       "      <td>BAJAJFINSV23JUL1660CE</td>\n",
       "      <td>1750.00</td>\n",
       "      <td>2</td>\n",
       "      <td>3</td>\n",
       "    </tr>\n",
       "    <tr>\n",
       "      <th>1</th>\n",
       "      <td>2023-07-20</td>\n",
       "      <td>GRASIM23JUL1840CE</td>\n",
       "      <td>-6222.50</td>\n",
       "      <td>3</td>\n",
       "      <td>3</td>\n",
       "    </tr>\n",
       "    <tr>\n",
       "      <th>2</th>\n",
       "      <td>2023-07-25</td>\n",
       "      <td>GAIL23JUL125CE</td>\n",
       "      <td>-457.50</td>\n",
       "      <td>1</td>\n",
       "      <td>4</td>\n",
       "    </tr>\n",
       "    <tr>\n",
       "      <th>3</th>\n",
       "      <td>2023-07-25</td>\n",
       "      <td>GAIL23AUG125CE</td>\n",
       "      <td>915.00</td>\n",
       "      <td>1</td>\n",
       "      <td>4</td>\n",
       "    </tr>\n",
       "    <tr>\n",
       "      <th>4</th>\n",
       "      <td>2023-07-25</td>\n",
       "      <td>AMBUJACEM23JUL440CE</td>\n",
       "      <td>810.00</td>\n",
       "      <td>1</td>\n",
       "      <td>4</td>\n",
       "    </tr>\n",
       "    <tr>\n",
       "      <th>...</th>\n",
       "      <td>...</td>\n",
       "      <td>...</td>\n",
       "      <td>...</td>\n",
       "      <td>...</td>\n",
       "      <td>...</td>\n",
       "    </tr>\n",
       "    <tr>\n",
       "      <th>100</th>\n",
       "      <td>2024-01-23</td>\n",
       "      <td>BAJFINANCE24FEB6800PE</td>\n",
       "      <td>1512.50</td>\n",
       "      <td>1</td>\n",
       "      <td>4</td>\n",
       "    </tr>\n",
       "    <tr>\n",
       "      <th>101</th>\n",
       "      <td>2024-01-25</td>\n",
       "      <td>JUBLFOOD24FEB490PE</td>\n",
       "      <td>1750.00</td>\n",
       "      <td>3</td>\n",
       "      <td>4</td>\n",
       "    </tr>\n",
       "    <tr>\n",
       "      <th>102</th>\n",
       "      <td>2024-01-29</td>\n",
       "      <td>IGL24FEB430CE</td>\n",
       "      <td>14918.75</td>\n",
       "      <td>0</td>\n",
       "      <td>5</td>\n",
       "    </tr>\n",
       "    <tr>\n",
       "      <th>103</th>\n",
       "      <td>2024-01-30</td>\n",
       "      <td>ULTRACEMCO24FEB9800PE</td>\n",
       "      <td>4885.00</td>\n",
       "      <td>1</td>\n",
       "      <td>5</td>\n",
       "    </tr>\n",
       "    <tr>\n",
       "      <th>104</th>\n",
       "      <td>2024-01-31</td>\n",
       "      <td>NAUKRI24FEB5300CE</td>\n",
       "      <td>19582.50</td>\n",
       "      <td>2</td>\n",
       "      <td>5</td>\n",
       "    </tr>\n",
       "  </tbody>\n",
       "</table>\n",
       "<p>103 rows × 5 columns</p>\n",
       "</div>"
      ],
      "text/plain": [
       "    trade_date                 Symbol  Realized P&L  WeekDay  WeekNo\n",
       "0   2023-07-19  BAJAJFINSV23JUL1660CE       1750.00        2       3\n",
       "1   2023-07-20      GRASIM23JUL1840CE      -6222.50        3       3\n",
       "2   2023-07-25         GAIL23JUL125CE       -457.50        1       4\n",
       "3   2023-07-25         GAIL23AUG125CE        915.00        1       4\n",
       "4   2023-07-25    AMBUJACEM23JUL440CE        810.00        1       4\n",
       "..         ...                    ...           ...      ...     ...\n",
       "100 2024-01-23  BAJFINANCE24FEB6800PE       1512.50        1       4\n",
       "101 2024-01-25     JUBLFOOD24FEB490PE       1750.00        3       4\n",
       "102 2024-01-29          IGL24FEB430CE      14918.75        0       5\n",
       "103 2024-01-30  ULTRACEMCO24FEB9800PE       4885.00        1       5\n",
       "104 2024-01-31      NAUKRI24FEB5300CE      19582.50        2       5\n",
       "\n",
       "[103 rows x 5 columns]"
      ]
     },
     "execution_count": 80,
     "metadata": {},
     "output_type": "execute_result"
    }
   ],
   "source": [
    "ldf2"
   ]
  },
  {
   "cell_type": "code",
   "execution_count": 91,
   "metadata": {},
   "outputs": [
    {
     "data": {
      "text/plain": [
       "57330.59999999999"
      ]
     },
     "execution_count": 91,
     "metadata": {},
     "output_type": "execute_result"
    }
   ],
   "source": [
    "ldf2['Realized P&L'].sum()"
   ]
  },
  {
   "cell_type": "code",
   "execution_count": 1,
   "metadata": {},
   "outputs": [],
   "source": [
    "import MetaTrader5 as mt5\n",
    "import pandas as pd"
   ]
  },
  {
   "cell_type": "code",
   "execution_count": 2,
   "metadata": {},
   "outputs": [
    {
     "data": {
      "text/plain": [
       "True"
      ]
     },
     "execution_count": 2,
     "metadata": {},
     "output_type": "execute_result"
    }
   ],
   "source": [
    "login = 25088141\n",
    "password = 'N3W*f%Ts??kF'\n",
    "server = 'Tickmill-Demo'\n",
    "path = r'C:\\Program Files\\MetaTrader 5\\terminal64.exe'\n",
    "mt5.initialize( login = login , password = password, server = server)"
   ]
  },
  {
   "cell_type": "code",
   "execution_count": 3,
   "metadata": {},
   "outputs": [
    {
     "data": {
      "text/html": [
       "<div>\n",
       "<style scoped>\n",
       "    .dataframe tbody tr th:only-of-type {\n",
       "        vertical-align: middle;\n",
       "    }\n",
       "\n",
       "    .dataframe tbody tr th {\n",
       "        vertical-align: top;\n",
       "    }\n",
       "\n",
       "    .dataframe thead th {\n",
       "        text-align: right;\n",
       "    }\n",
       "</style>\n",
       "<table border=\"1\" class=\"dataframe\">\n",
       "  <thead>\n",
       "    <tr style=\"text-align: right;\">\n",
       "      <th></th>\n",
       "      <th>0</th>\n",
       "      <th>1</th>\n",
       "      <th>2</th>\n",
       "      <th>3</th>\n",
       "      <th>4</th>\n",
       "      <th>5</th>\n",
       "      <th>6</th>\n",
       "      <th>7</th>\n",
       "      <th>8</th>\n",
       "      <th>9</th>\n",
       "      <th>...</th>\n",
       "      <th>86</th>\n",
       "      <th>87</th>\n",
       "      <th>88</th>\n",
       "      <th>89</th>\n",
       "      <th>90</th>\n",
       "      <th>91</th>\n",
       "      <th>92</th>\n",
       "      <th>93</th>\n",
       "      <th>94</th>\n",
       "      <th>95</th>\n",
       "    </tr>\n",
       "  </thead>\n",
       "  <tbody>\n",
       "    <tr>\n",
       "      <th>0</th>\n",
       "      <td>False</td>\n",
       "      <td>0</td>\n",
       "      <td>True</td>\n",
       "      <td>True</td>\n",
       "      <td>0</td>\n",
       "      <td>0</td>\n",
       "      <td>0</td>\n",
       "      <td>0</td>\n",
       "      <td>0</td>\n",
       "      <td>0</td>\n",
       "      <td>...</td>\n",
       "      <td>USD</td>\n",
       "      <td>EUR</td>\n",
       "      <td>Tickmill</td>\n",
       "      <td>Euro vs US Dollar</td>\n",
       "      <td></td>\n",
       "      <td></td>\n",
       "      <td></td>\n",
       "      <td>EURUSD</td>\n",
       "      <td></td>\n",
       "      <td>Forex\\EURUSD</td>\n",
       "    </tr>\n",
       "  </tbody>\n",
       "</table>\n",
       "<p>1 rows × 96 columns</p>\n",
       "</div>"
      ],
      "text/plain": [
       "      0  1     2     3  4  5  6  7  8  9   ...   86   87        88  \\\n",
       "0  False  0  True  True  0  0  0  0  0  0  ...  USD  EUR  Tickmill   \n",
       "\n",
       "                  89 90 91 92      93 94            95  \n",
       "0  Euro vs US Dollar           EURUSD     Forex\\EURUSD  \n",
       "\n",
       "[1 rows x 96 columns]"
      ]
     },
     "execution_count": 3,
     "metadata": {},
     "output_type": "execute_result"
    }
   ],
   "source": [
    "pd.DataFrame(mt5.symbol_info(\"EURUSD\")).transpose()"
   ]
  },
  {
   "cell_type": "code",
   "execution_count": 20,
   "metadata": {},
   "outputs": [
    {
     "name": "stdout",
     "output_type": "stream",
     "text": [
      "1.0\n",
      "1.0\n",
      "1.0\n"
     ]
    }
   ],
   "source": [
    "dt = mt5.symbol_info(\"EURUSD\")\n",
    "print(dt.point * 100000)\n",
    "print(dt.trade_tick_value_profit)\n",
    "print(dt.trade_tick_value_loss)"
   ]
  },
  {
   "cell_type": "code",
   "execution_count": 36,
   "metadata": {},
   "outputs": [
    {
     "name": "stdout",
     "output_type": "stream",
     "text": [
      "1.0\n",
      "0.7431408103207396\n",
      "0.7431518556501836\n",
      "1.0\n",
      "0.7431352877791402\n",
      "0.7431463329444202\n",
      "1.0\n",
      "0.7431131984335173\n",
      "0.7431242429421776\n",
      "1.0\n",
      "0.7431131984335173\n",
      "0.7431242429421776\n",
      "1.0\n",
      "0.74312976531962\n",
      "0.7431408103207396\n",
      "1.0\n",
      "0.74312976531962\n",
      "0.7431408103207396\n",
      "1.0\n",
      "0.74312976531962\n",
      "0.7431408103207396\n",
      "1.0\n",
      "0.74312976531962\n",
      "0.7431408103207396\n",
      "1.0\n",
      "0.7431187206468106\n",
      "0.74312976531962\n",
      "1.0\n",
      "0.7431242429421776\n",
      "0.7431352877791402\n",
      "1.0\n",
      "0.7431242429421776\n",
      "0.7431352877791402\n",
      "1.0\n",
      "0.7431187206468106\n",
      "0.74312976531962\n",
      "1.0\n",
      "0.7431187206468106\n",
      "0.74312976531962\n",
      "1.0\n",
      "0.7431242429421776\n",
      "0.7431352877791402\n",
      "1.0\n",
      "0.7431352877791402\n",
      "0.7431463329444202\n",
      "1.0\n",
      "0.7431187206468106\n",
      "0.74312976531962\n",
      "1.0\n",
      "0.7431408103207396\n",
      "0.7431518556501836\n",
      "1.0\n",
      "0.7431408103207396\n",
      "0.7431518556501836\n",
      "1.0\n",
      "0.7431352877791402\n",
      "0.7431463329444202\n",
      "1.0\n",
      "0.7431352877791402\n",
      "0.7431463329444202\n",
      "1.0\n",
      "0.7431352877791402\n",
      "0.7431463329444202\n",
      "1.0\n",
      "0.7431352877791402\n",
      "0.7431463329444202\n",
      "1.0\n",
      "0.7431352877791402\n",
      "0.7431463329444202\n",
      "1.0\n",
      "0.7431408103207396\n",
      "0.7431518556501836\n",
      "1.0\n",
      "0.7431408103207396\n",
      "0.7431518556501836\n",
      "1.0\n",
      "0.7431408103207396\n",
      "0.7431518556501836\n"
     ]
    },
    {
     "ename": "KeyboardInterrupt",
     "evalue": "",
     "output_type": "error",
     "traceback": [
      "\u001b[1;31m---------------------------------------------------------------------------\u001b[0m",
      "\u001b[1;31mKeyboardInterrupt\u001b[0m                         Traceback (most recent call last)",
      "Cell \u001b[1;32mIn[36], line 7\u001b[0m\n\u001b[0;32m      5\u001b[0m \u001b[38;5;28mprint\u001b[39m(dt\u001b[38;5;241m.\u001b[39mtrade_tick_value_profit)\n\u001b[0;32m      6\u001b[0m \u001b[38;5;28mprint\u001b[39m(dt\u001b[38;5;241m.\u001b[39mtrade_tick_value_loss)\n\u001b[1;32m----> 7\u001b[0m \u001b[43mtime\u001b[49m\u001b[38;5;241;43m.\u001b[39;49m\u001b[43msleep\u001b[49m\u001b[43m(\u001b[49m\u001b[38;5;241;43m2\u001b[39;49m\u001b[43m)\u001b[49m\n",
      "\u001b[1;31mKeyboardInterrupt\u001b[0m: "
     ]
    }
   ],
   "source": [
    "import time\n",
    "while True:\n",
    "    dt = mt5.symbol_info(\"USDCAD\")\n",
    "    print(dt.point * 100000)\n",
    "    print(dt.trade_tick_value_profit)\n",
    "    print(dt.trade_tick_value_loss)\n",
    "    time.sleep(2)\n",
    "    "
   ]
  },
  {
   "cell_type": "code",
   "execution_count": 4,
   "metadata": {},
   "outputs": [
    {
     "ename": "AttributeError",
     "evalue": "'dict' object has no attribute 'point'",
     "output_type": "error",
     "traceback": [
      "\u001b[1;31m---------------------------------------------------------------------------\u001b[0m",
      "\u001b[1;31mAttributeError\u001b[0m                            Traceback (most recent call last)",
      "Cell \u001b[1;32mIn[4], line 2\u001b[0m\n\u001b[0;32m      1\u001b[0m dt \u001b[38;5;241m=\u001b[39m mt5\u001b[38;5;241m.\u001b[39msymbol_info(\u001b[38;5;124m\"\u001b[39m\u001b[38;5;124mEURUSD\u001b[39m\u001b[38;5;124m\"\u001b[39m)\u001b[38;5;241m.\u001b[39m_asdict()\n\u001b[1;32m----> 2\u001b[0m \u001b[38;5;28mprint\u001b[39m(\u001b[38;5;241m1\u001b[39m\u001b[38;5;241m/\u001b[39m\u001b[43mdt\u001b[49m\u001b[38;5;241;43m.\u001b[39;49m\u001b[43mpoint\u001b[49m)\n\u001b[0;32m      3\u001b[0m \u001b[38;5;28mprint\u001b[39m(dt\u001b[38;5;241m.\u001b[39mtrade_tick_value_profit)\n\u001b[0;32m      4\u001b[0m \u001b[38;5;28mprint\u001b[39m(dt\u001b[38;5;241m.\u001b[39mtrade_tick_value_loss)\n",
      "\u001b[1;31mAttributeError\u001b[0m: 'dict' object has no attribute 'point'"
     ]
    }
   ],
   "source": [
    "dt = mt5.symbol_info(\"EURUSD\")._asdict()\n",
    "print(1/dt.point)\n",
    "print(dt.trade_tick_value_profit)\n",
    "print(dt.trade_tick_value_loss)\n",
    "print(dt.swap_long)\n",
    "print(dt.swap_short)"
   ]
  },
  {
   "cell_type": "code",
   "execution_count": 85,
   "metadata": {},
   "outputs": [
    {
     "data": {
      "text/plain": [
       "{'custom': False,\n",
       " 'chart_mode': 0,\n",
       " 'select': True,\n",
       " 'visible': True,\n",
       " 'session_deals': 0,\n",
       " 'session_buy_orders': 0,\n",
       " 'session_sell_orders': 0,\n",
       " 'volume': 0,\n",
       " 'volumehigh': 0,\n",
       " 'volumelow': 0,\n",
       " 'time': 1707392884,\n",
       " 'digits': 2,\n",
       " 'spread': 210,\n",
       " 'spread_float': True,\n",
       " 'ticks_bookdepth': 0,\n",
       " 'trade_calc_mode': 3,\n",
       " 'trade_mode': 4,\n",
       " 'start_time': 0,\n",
       " 'expiration_time': 0,\n",
       " 'trade_stops_level': 0,\n",
       " 'trade_freeze_level': 0,\n",
       " 'trade_exemode': 2,\n",
       " 'swap_mode': 3,\n",
       " 'swap_rollover3days': 5,\n",
       " 'margin_hedged_use_leg': False,\n",
       " 'expiration_mode': 15,\n",
       " 'filling_mode': 2,\n",
       " 'order_mode': 127,\n",
       " 'order_gtc_mode': 0,\n",
       " 'option_mode': 0,\n",
       " 'option_right': 0,\n",
       " 'bid': 38671.45,\n",
       " 'bidhigh': 38709.95,\n",
       " 'bidlow': 38650.95,\n",
       " 'ask': 38673.55,\n",
       " 'askhigh': 38712.05,\n",
       " 'asklow': 38653.05,\n",
       " 'last': 0.0,\n",
       " 'lasthigh': 0.0,\n",
       " 'lastlow': 0.0,\n",
       " 'volume_real': 0.0,\n",
       " 'volumehigh_real': 0.0,\n",
       " 'volumelow_real': 0.0,\n",
       " 'option_strike': 0.0,\n",
       " 'point': 0.01,\n",
       " 'trade_tick_value': 0.01,\n",
       " 'trade_tick_value_profit': 0.01,\n",
       " 'trade_tick_value_loss': 0.01,\n",
       " 'trade_tick_size': 0.01,\n",
       " 'trade_contract_size': 1.0,\n",
       " 'trade_accrued_interest': 0.0,\n",
       " 'trade_face_value': 0.0,\n",
       " 'trade_liquidity_rate': 0.0,\n",
       " 'volume_min': 0.01,\n",
       " 'volume_max': 100.0,\n",
       " 'volume_step': 0.01,\n",
       " 'volume_limit': 0.0,\n",
       " 'swap_long': -7.6899999999999995,\n",
       " 'swap_short': 2.15,\n",
       " 'margin_initial': 0.0,\n",
       " 'margin_maintenance': 0.0,\n",
       " 'session_volume': 0.0,\n",
       " 'session_turnover': 0.0,\n",
       " 'session_interest': 0.0,\n",
       " 'session_buy_orders_volume': 0.0,\n",
       " 'session_sell_orders_volume': 0.0,\n",
       " 'session_open': 38692.97,\n",
       " 'session_close': 38683.39,\n",
       " 'session_aw': 0.0,\n",
       " 'session_price_settlement': 0.0,\n",
       " 'session_price_limit_min': 0.0,\n",
       " 'session_price_limit_max': 0.0,\n",
       " 'margin_hedged': 0.0,\n",
       " 'price_change': -0.0309,\n",
       " 'price_volatility': 0.0,\n",
       " 'price_theoretical': 0.0,\n",
       " 'price_greeks_delta': 0.0,\n",
       " 'price_greeks_theta': 0.0,\n",
       " 'price_greeks_gamma': 0.0,\n",
       " 'price_greeks_vega': 0.0,\n",
       " 'price_greeks_rho': 0.0,\n",
       " 'price_greeks_omega': 0.0,\n",
       " 'price_sensitivity': 0.0,\n",
       " 'basis': '',\n",
       " 'category': '',\n",
       " 'currency_base': 'USD',\n",
       " 'currency_profit': 'USD',\n",
       " 'currency_margin': 'USD',\n",
       " 'bank': 'Tickmill',\n",
       " 'description': 'US Wall Street 30 Index',\n",
       " 'exchange': '',\n",
       " 'formula': '',\n",
       " 'isin': '',\n",
       " 'name': 'US30',\n",
       " 'page': '',\n",
       " 'path': 'CFD-2\\\\US30'}"
      ]
     },
     "execution_count": 85,
     "metadata": {},
     "output_type": "execute_result"
    }
   ],
   "source": [
    "dt"
   ]
  },
  {
   "cell_type": "code",
   "execution_count": 13,
   "metadata": {},
   "outputs": [
    {
     "data": {
      "text/plain": [
       "1.0"
      ]
     },
     "execution_count": 13,
     "metadata": {},
     "output_type": "execute_result"
    }
   ],
   "source": [
    "dt.trade_tick_value_profit"
   ]
  },
  {
   "cell_type": "code",
   "execution_count": 14,
   "metadata": {},
   "outputs": [
    {
     "data": {
      "text/plain": [
       "1.0"
      ]
     },
     "execution_count": 14,
     "metadata": {},
     "output_type": "execute_result"
    }
   ],
   "source": [
    "dt.trade_tick_value_loss"
   ]
  },
  {
   "cell_type": "code",
   "execution_count": 18,
   "metadata": {},
   "outputs": [],
   "source": [
    "Symbols = [\"EURUSD\" , \"GBPUSD\" , \"AUDUSD\" , \"USDCAD\" , \"USDJPY\" , \"US30\" ,\"US500\" , \"XTIUSD\" , \"XAUUSD\" ,\"XAGUSD\"]"
   ]
  },
  {
   "cell_type": "code",
   "execution_count": 78,
   "metadata": {},
   "outputs": [
    {
     "data": {
      "text/plain": [
       "SymbolInfo(custom=False, chart_mode=0, select=True, visible=True, session_deals=0, session_buy_orders=0, session_sell_orders=0, volume=0, volumehigh=0, volumelow=0, time=1707391481, digits=3, spread=8, spread_float=True, ticks_bookdepth=0, trade_calc_mode=0, trade_mode=4, start_time=0, expiration_time=0, trade_stops_level=0, trade_freeze_level=0, trade_exemode=2, swap_mode=1, swap_rollover3days=3, margin_hedged_use_leg=False, expiration_mode=15, filling_mode=2, order_mode=127, order_gtc_mode=0, option_mode=0, option_right=0, bid=22.317, bidhigh=22.377, bidlow=22.159, ask=22.325, askhigh=22.387, asklow=22.183, last=0.0, lasthigh=0.0, lastlow=0.0, volume_real=0.0, volumehigh_real=0.0, volumelow_real=0.0, option_strike=0.0, point=0.001, trade_tick_value=5.0, trade_tick_value_profit=5.0, trade_tick_value_loss=5.0, trade_tick_size=0.001, trade_contract_size=5000.0, trade_accrued_interest=0.0, trade_face_value=0.0, trade_liquidity_rate=0.0, volume_min=0.01, volume_max=100.0, volume_step=0.01, volume_limit=0.0, swap_long=-4.49, swap_short=2.62, margin_initial=0.0, margin_maintenance=0.0, session_volume=0.0, session_turnover=0.0, session_interest=0.0, session_buy_orders_volume=0.0, session_sell_orders_volume=0.0, session_open=22.186, session_close=22.198, session_aw=0.0, session_price_settlement=0.0, session_price_limit_min=0.0, session_price_limit_max=0.0, margin_hedged=0.0, price_change=0.5361, price_volatility=0.0, price_theoretical=0.0, price_greeks_delta=0.0, price_greeks_theta=0.0, price_greeks_gamma=0.0, price_greeks_vega=0.0, price_greeks_rho=0.0, price_greeks_omega=0.0, price_sensitivity=0.0, basis='', category='', currency_base='XAG', currency_profit='USD', currency_margin='XAG', bank='Tickmill', description='Silver vs US Dollar ', exchange='', formula='', isin='', name='XAGUSD', page='', path='Forex\\\\XAGUSD')"
      ]
     },
     "execution_count": 78,
     "metadata": {},
     "output_type": "execute_result"
    }
   ],
   "source": [
    "dt"
   ]
  },
  {
   "cell_type": "code",
   "execution_count": 70,
   "metadata": {},
   "outputs": [],
   "source": [
    "\n",
    "pip = pd.DataFrame(columns = [\"Symbol\" , \"QTY\" , \"PipValueProfit\" , \"PipValueLoss\" , \"Commission\" , \"LongSwap\" ,\"ShortSwap\",\"swap_rate_mon\" , \"swap_rate_tue\" ,\"swap_rate_wed\" , \"swap_rate_thru\" , \"swap_rate_fri\"])\n",
    "for sym in Symbols:\n",
    "    dt = mt5.symbol_info(sym)\n",
    "    pip.loc[len(pip)] = [sym ,dt.point , dt.trade_tick_value_profit , dt.trade_tick_value_loss ,\"Na\",dt.swap_long,dt.swap_short ,\"Na\" ,\"Na\",\"Na\",\"Na\",\"Na\" ]"
   ]
  },
  {
   "cell_type": "code",
   "execution_count": 71,
   "metadata": {},
   "outputs": [
    {
     "data": {
      "text/html": [
       "<div>\n",
       "<style scoped>\n",
       "    .dataframe tbody tr th:only-of-type {\n",
       "        vertical-align: middle;\n",
       "    }\n",
       "\n",
       "    .dataframe tbody tr th {\n",
       "        vertical-align: top;\n",
       "    }\n",
       "\n",
       "    .dataframe thead th {\n",
       "        text-align: right;\n",
       "    }\n",
       "</style>\n",
       "<table border=\"1\" class=\"dataframe\">\n",
       "  <thead>\n",
       "    <tr style=\"text-align: right;\">\n",
       "      <th></th>\n",
       "      <th>Symbol</th>\n",
       "      <th>QTY</th>\n",
       "      <th>PipValueProfit</th>\n",
       "      <th>PipValueLoss</th>\n",
       "      <th>Commission</th>\n",
       "      <th>LongSwap</th>\n",
       "      <th>ShortSwap</th>\n",
       "      <th>swap_rate_mon</th>\n",
       "      <th>swap_rate_tue</th>\n",
       "      <th>swap_rate_wed</th>\n",
       "      <th>swap_rate_thru</th>\n",
       "      <th>swap_rate_fri</th>\n",
       "    </tr>\n",
       "  </thead>\n",
       "  <tbody>\n",
       "    <tr>\n",
       "      <th>0</th>\n",
       "      <td>EURUSD</td>\n",
       "      <td>0.00001</td>\n",
       "      <td>1.000000</td>\n",
       "      <td>1.000000</td>\n",
       "      <td>Na</td>\n",
       "      <td>-6.17</td>\n",
       "      <td>2.61</td>\n",
       "      <td>Na</td>\n",
       "      <td>Na</td>\n",
       "      <td>Na</td>\n",
       "      <td>Na</td>\n",
       "      <td>Na</td>\n",
       "    </tr>\n",
       "    <tr>\n",
       "      <th>1</th>\n",
       "      <td>GBPUSD</td>\n",
       "      <td>0.00001</td>\n",
       "      <td>1.000000</td>\n",
       "      <td>1.000000</td>\n",
       "      <td>Na</td>\n",
       "      <td>-2.42</td>\n",
       "      <td>-0.53</td>\n",
       "      <td>Na</td>\n",
       "      <td>Na</td>\n",
       "      <td>Na</td>\n",
       "      <td>Na</td>\n",
       "      <td>Na</td>\n",
       "    </tr>\n",
       "    <tr>\n",
       "      <th>2</th>\n",
       "      <td>AUDUSD</td>\n",
       "      <td>0.00001</td>\n",
       "      <td>1.000000</td>\n",
       "      <td>1.000000</td>\n",
       "      <td>Na</td>\n",
       "      <td>-2.84</td>\n",
       "      <td>1.14</td>\n",
       "      <td>Na</td>\n",
       "      <td>Na</td>\n",
       "      <td>Na</td>\n",
       "      <td>Na</td>\n",
       "      <td>Na</td>\n",
       "    </tr>\n",
       "    <tr>\n",
       "      <th>3</th>\n",
       "      <td>USDCAD</td>\n",
       "      <td>0.00001</td>\n",
       "      <td>0.742688</td>\n",
       "      <td>0.742699</td>\n",
       "      <td>Na</td>\n",
       "      <td>0.48</td>\n",
       "      <td>-4.48</td>\n",
       "      <td>Na</td>\n",
       "      <td>Na</td>\n",
       "      <td>Na</td>\n",
       "      <td>Na</td>\n",
       "      <td>Na</td>\n",
       "    </tr>\n",
       "    <tr>\n",
       "      <th>4</th>\n",
       "      <td>USDJPY</td>\n",
       "      <td>0.00100</td>\n",
       "      <td>0.672382</td>\n",
       "      <td>0.672382</td>\n",
       "      <td>Na</td>\n",
       "      <td>12.51</td>\n",
       "      <td>-25.41</td>\n",
       "      <td>Na</td>\n",
       "      <td>Na</td>\n",
       "      <td>Na</td>\n",
       "      <td>Na</td>\n",
       "      <td>Na</td>\n",
       "    </tr>\n",
       "    <tr>\n",
       "      <th>5</th>\n",
       "      <td>US30</td>\n",
       "      <td>0.01000</td>\n",
       "      <td>0.010000</td>\n",
       "      <td>0.010000</td>\n",
       "      <td>Na</td>\n",
       "      <td>-7.69</td>\n",
       "      <td>2.15</td>\n",
       "      <td>Na</td>\n",
       "      <td>Na</td>\n",
       "      <td>Na</td>\n",
       "      <td>Na</td>\n",
       "      <td>Na</td>\n",
       "    </tr>\n",
       "    <tr>\n",
       "      <th>6</th>\n",
       "      <td>US500</td>\n",
       "      <td>0.01000</td>\n",
       "      <td>0.010000</td>\n",
       "      <td>0.010000</td>\n",
       "      <td>Na</td>\n",
       "      <td>-0.97</td>\n",
       "      <td>0.26</td>\n",
       "      <td>Na</td>\n",
       "      <td>Na</td>\n",
       "      <td>Na</td>\n",
       "      <td>Na</td>\n",
       "      <td>Na</td>\n",
       "    </tr>\n",
       "    <tr>\n",
       "      <th>7</th>\n",
       "      <td>XTIUSD</td>\n",
       "      <td>0.01000</td>\n",
       "      <td>0.010000</td>\n",
       "      <td>0.010000</td>\n",
       "      <td>Na</td>\n",
       "      <td>-0.99</td>\n",
       "      <td>-0.12</td>\n",
       "      <td>Na</td>\n",
       "      <td>Na</td>\n",
       "      <td>Na</td>\n",
       "      <td>Na</td>\n",
       "      <td>Na</td>\n",
       "    </tr>\n",
       "    <tr>\n",
       "      <th>8</th>\n",
       "      <td>XAUUSD</td>\n",
       "      <td>0.01000</td>\n",
       "      <td>1.000000</td>\n",
       "      <td>1.000000</td>\n",
       "      <td>Na</td>\n",
       "      <td>-32.64</td>\n",
       "      <td>20.90</td>\n",
       "      <td>Na</td>\n",
       "      <td>Na</td>\n",
       "      <td>Na</td>\n",
       "      <td>Na</td>\n",
       "      <td>Na</td>\n",
       "    </tr>\n",
       "    <tr>\n",
       "      <th>9</th>\n",
       "      <td>XAGUSD</td>\n",
       "      <td>0.00100</td>\n",
       "      <td>5.000000</td>\n",
       "      <td>5.000000</td>\n",
       "      <td>Na</td>\n",
       "      <td>-4.49</td>\n",
       "      <td>2.62</td>\n",
       "      <td>Na</td>\n",
       "      <td>Na</td>\n",
       "      <td>Na</td>\n",
       "      <td>Na</td>\n",
       "      <td>Na</td>\n",
       "    </tr>\n",
       "  </tbody>\n",
       "</table>\n",
       "</div>"
      ],
      "text/plain": [
       "   Symbol      QTY  PipValueProfit  PipValueLoss Commission  LongSwap  \\\n",
       "0  EURUSD  0.00001        1.000000      1.000000         Na     -6.17   \n",
       "1  GBPUSD  0.00001        1.000000      1.000000         Na     -2.42   \n",
       "2  AUDUSD  0.00001        1.000000      1.000000         Na     -2.84   \n",
       "3  USDCAD  0.00001        0.742688      0.742699         Na      0.48   \n",
       "4  USDJPY  0.00100        0.672382      0.672382         Na     12.51   \n",
       "5    US30  0.01000        0.010000      0.010000         Na     -7.69   \n",
       "6   US500  0.01000        0.010000      0.010000         Na     -0.97   \n",
       "7  XTIUSD  0.01000        0.010000      0.010000         Na     -0.99   \n",
       "8  XAUUSD  0.01000        1.000000      1.000000         Na    -32.64   \n",
       "9  XAGUSD  0.00100        5.000000      5.000000         Na     -4.49   \n",
       "\n",
       "   ShortSwap swap_rate_mon swap_rate_tue swap_rate_wed swap_rate_thru  \\\n",
       "0       2.61            Na            Na            Na             Na   \n",
       "1      -0.53            Na            Na            Na             Na   \n",
       "2       1.14            Na            Na            Na             Na   \n",
       "3      -4.48            Na            Na            Na             Na   \n",
       "4     -25.41            Na            Na            Na             Na   \n",
       "5       2.15            Na            Na            Na             Na   \n",
       "6       0.26            Na            Na            Na             Na   \n",
       "7      -0.12            Na            Na            Na             Na   \n",
       "8      20.90            Na            Na            Na             Na   \n",
       "9       2.62            Na            Na            Na             Na   \n",
       "\n",
       "  swap_rate_fri  \n",
       "0            Na  \n",
       "1            Na  \n",
       "2            Na  \n",
       "3            Na  \n",
       "4            Na  \n",
       "5            Na  \n",
       "6            Na  \n",
       "7            Na  \n",
       "8            Na  \n",
       "9            Na  "
      ]
     },
     "execution_count": 71,
     "metadata": {},
     "output_type": "execute_result"
    }
   ],
   "source": [
    "pip"
   ]
  },
  {
   "cell_type": "code",
   "execution_count": 76,
   "metadata": {},
   "outputs": [
    {
     "data": {
      "text/plain": [
       "-1.0"
      ]
     },
     "execution_count": 76,
     "metadata": {},
     "output_type": "execute_result"
    }
   ],
   "source": [
    "(100 - 101) * (1/0.01) * 0.01"
   ]
  },
  {
   "cell_type": "code",
   "execution_count": 77,
   "metadata": {},
   "outputs": [],
   "source": [
    "pip.to_csv('PipValue.csv', index=False)"
   ]
  },
  {
   "cell_type": "code",
   "execution_count": 8,
   "metadata": {},
   "outputs": [],
   "source": [
    "dt = mt5.symbol_info(\"AAPL\")._asdict()\n",
    "pd.DataFrame.from_dict(dt, orient='index').to_csv('ss2.csv')"
   ]
  },
  {
   "cell_type": "code",
   "execution_count": 83,
   "metadata": {},
   "outputs": [
    {
     "data": {
      "text/plain": [
       "SymbolInfo(custom=False, chart_mode=0, select=True, visible=True, session_deals=0, session_buy_orders=0, session_sell_orders=0, volume=0, volumehigh=0, volumelow=0, time=1707391481, digits=3, spread=8, spread_float=True, ticks_bookdepth=0, trade_calc_mode=0, trade_mode=4, start_time=0, expiration_time=0, trade_stops_level=0, trade_freeze_level=0, trade_exemode=2, swap_mode=1, swap_rollover3days=3, margin_hedged_use_leg=False, expiration_mode=15, filling_mode=2, order_mode=127, order_gtc_mode=0, option_mode=0, option_right=0, bid=22.317, bidhigh=22.377, bidlow=22.159, ask=22.325, askhigh=22.387, asklow=22.183, last=0.0, lasthigh=0.0, lastlow=0.0, volume_real=0.0, volumehigh_real=0.0, volumelow_real=0.0, option_strike=0.0, point=0.001, trade_tick_value=5.0, trade_tick_value_profit=5.0, trade_tick_value_loss=5.0, trade_tick_size=0.001, trade_contract_size=5000.0, trade_accrued_interest=0.0, trade_face_value=0.0, trade_liquidity_rate=0.0, volume_min=0.01, volume_max=100.0, volume_step=0.01, volume_limit=0.0, swap_long=-4.49, swap_short=2.62, margin_initial=0.0, margin_maintenance=0.0, session_volume=0.0, session_turnover=0.0, session_interest=0.0, session_buy_orders_volume=0.0, session_sell_orders_volume=0.0, session_open=22.186, session_close=22.198, session_aw=0.0, session_price_settlement=0.0, session_price_limit_min=0.0, session_price_limit_max=0.0, margin_hedged=0.0, price_change=0.5361, price_volatility=0.0, price_theoretical=0.0, price_greeks_delta=0.0, price_greeks_theta=0.0, price_greeks_gamma=0.0, price_greeks_vega=0.0, price_greeks_rho=0.0, price_greeks_omega=0.0, price_sensitivity=0.0, basis='', category='', currency_base='XAG', currency_profit='USD', currency_margin='XAG', bank='Tickmill', description='Silver vs US Dollar ', exchange='', formula='', isin='', name='XAGUSD', page='', path='Forex\\\\XAGUSD')"
      ]
     },
     "execution_count": 83,
     "metadata": {},
     "output_type": "execute_result"
    }
   ],
   "source": [
    "dt"
   ]
  },
  {
   "cell_type": "code",
   "execution_count": 97,
   "metadata": {},
   "outputs": [
    {
     "data": {
      "text/plain": [
       "dict_keys(['custom', 'chart_mode', 'select', 'visible', 'session_deals', 'session_buy_orders', 'session_sell_orders', 'volume', 'volumehigh', 'volumelow', 'time', 'digits', 'spread', 'spread_float', 'ticks_bookdepth', 'trade_calc_mode', 'trade_mode', 'start_time', 'expiration_time', 'trade_stops_level', 'trade_freeze_level', 'trade_exemode', 'swap_mode', 'swap_rollover3days', 'margin_hedged_use_leg', 'expiration_mode', 'filling_mode', 'order_mode', 'order_gtc_mode', 'option_mode', 'option_right', 'bid', 'bidhigh', 'bidlow', 'ask', 'askhigh', 'asklow', 'last', 'lasthigh', 'lastlow', 'volume_real', 'volumehigh_real', 'volumelow_real', 'option_strike', 'point', 'trade_tick_value', 'trade_tick_value_profit', 'trade_tick_value_loss', 'trade_tick_size', 'trade_contract_size', 'trade_accrued_interest', 'trade_face_value', 'trade_liquidity_rate', 'volume_min', 'volume_max', 'volume_step', 'volume_limit', 'swap_long', 'swap_short', 'margin_initial', 'margin_maintenance', 'session_volume', 'session_turnover', 'session_interest', 'session_buy_orders_volume', 'session_sell_orders_volume', 'session_open', 'session_close', 'session_aw', 'session_price_settlement', 'session_price_limit_min', 'session_price_limit_max', 'margin_hedged', 'price_change', 'price_volatility', 'price_theoretical', 'price_greeks_delta', 'price_greeks_theta', 'price_greeks_gamma', 'price_greeks_vega', 'price_greeks_rho', 'price_greeks_omega', 'price_sensitivity', 'basis', 'category', 'currency_base', 'currency_profit', 'currency_margin', 'bank', 'description', 'exchange', 'formula', 'isin', 'name', 'page', 'path'])"
      ]
     },
     "execution_count": 97,
     "metadata": {},
     "output_type": "execute_result"
    }
   ],
   "source": [
    "dt.keys()"
   ]
  },
  {
   "cell_type": "code",
   "execution_count": 98,
   "metadata": {},
   "outputs": [
    {
     "data": {
      "text/plain": [
       "{'custom': False,\n",
       " 'chart_mode': 0,\n",
       " 'select': True,\n",
       " 'visible': True,\n",
       " 'session_deals': 0,\n",
       " 'session_buy_orders': 0,\n",
       " 'session_sell_orders': 0,\n",
       " 'volume': 0,\n",
       " 'volumehigh': 0,\n",
       " 'volumelow': 0,\n",
       " 'time': 1707392884,\n",
       " 'digits': 2,\n",
       " 'spread': 210,\n",
       " 'spread_float': True,\n",
       " 'ticks_bookdepth': 0,\n",
       " 'trade_calc_mode': 3,\n",
       " 'trade_mode': 4,\n",
       " 'start_time': 0,\n",
       " 'expiration_time': 0,\n",
       " 'trade_stops_level': 0,\n",
       " 'trade_freeze_level': 0,\n",
       " 'trade_exemode': 2,\n",
       " 'swap_mode': 3,\n",
       " 'swap_rollover3days': 5,\n",
       " 'margin_hedged_use_leg': False,\n",
       " 'expiration_mode': 15,\n",
       " 'filling_mode': 2,\n",
       " 'order_mode': 127,\n",
       " 'order_gtc_mode': 0,\n",
       " 'option_mode': 0,\n",
       " 'option_right': 0,\n",
       " 'bid': 38671.45,\n",
       " 'bidhigh': 38709.95,\n",
       " 'bidlow': 38650.95,\n",
       " 'ask': 38673.55,\n",
       " 'askhigh': 38712.05,\n",
       " 'asklow': 38653.05,\n",
       " 'last': 0.0,\n",
       " 'lasthigh': 0.0,\n",
       " 'lastlow': 0.0,\n",
       " 'volume_real': 0.0,\n",
       " 'volumehigh_real': 0.0,\n",
       " 'volumelow_real': 0.0,\n",
       " 'option_strike': 0.0,\n",
       " 'point': 0.01,\n",
       " 'trade_tick_value': 0.01,\n",
       " 'trade_tick_value_profit': 0.01,\n",
       " 'trade_tick_value_loss': 0.01,\n",
       " 'trade_tick_size': 0.01,\n",
       " 'trade_contract_size': 1.0,\n",
       " 'trade_accrued_interest': 0.0,\n",
       " 'trade_face_value': 0.0,\n",
       " 'trade_liquidity_rate': 0.0,\n",
       " 'volume_min': 0.01,\n",
       " 'volume_max': 100.0,\n",
       " 'volume_step': 0.01,\n",
       " 'volume_limit': 0.0,\n",
       " 'swap_long': -7.6899999999999995,\n",
       " 'swap_short': 2.15,\n",
       " 'margin_initial': 0.0,\n",
       " 'margin_maintenance': 0.0,\n",
       " 'session_volume': 0.0,\n",
       " 'session_turnover': 0.0,\n",
       " 'session_interest': 0.0,\n",
       " 'session_buy_orders_volume': 0.0,\n",
       " 'session_sell_orders_volume': 0.0,\n",
       " 'session_open': 38692.97,\n",
       " 'session_close': 38683.39,\n",
       " 'session_aw': 0.0,\n",
       " 'session_price_settlement': 0.0,\n",
       " 'session_price_limit_min': 0.0,\n",
       " 'session_price_limit_max': 0.0,\n",
       " 'margin_hedged': 0.0,\n",
       " 'price_change': -0.0309,\n",
       " 'price_volatility': 0.0,\n",
       " 'price_theoretical': 0.0,\n",
       " 'price_greeks_delta': 0.0,\n",
       " 'price_greeks_theta': 0.0,\n",
       " 'price_greeks_gamma': 0.0,\n",
       " 'price_greeks_vega': 0.0,\n",
       " 'price_greeks_rho': 0.0,\n",
       " 'price_greeks_omega': 0.0,\n",
       " 'price_sensitivity': 0.0,\n",
       " 'basis': '',\n",
       " 'category': '',\n",
       " 'currency_base': 'USD',\n",
       " 'currency_profit': 'USD',\n",
       " 'currency_margin': 'USD',\n",
       " 'bank': 'Tickmill',\n",
       " 'description': 'US Wall Street 30 Index',\n",
       " 'exchange': '',\n",
       " 'formula': '',\n",
       " 'isin': '',\n",
       " 'name': 'US30',\n",
       " 'page': '',\n",
       " 'path': 'CFD-2\\\\US30'}"
      ]
     },
     "execution_count": 98,
     "metadata": {},
     "output_type": "execute_result"
    }
   ],
   "source": [
    "dt"
   ]
  },
  {
   "cell_type": "code",
   "execution_count": 99,
   "metadata": {},
   "outputs": [
    {
     "data": {
      "text/plain": [
       "{'custom': False,\n",
       " 'chart_mode': 0,\n",
       " 'select': True,\n",
       " 'visible': True,\n",
       " 'session_deals': 0,\n",
       " 'session_buy_orders': 0,\n",
       " 'session_sell_orders': 0,\n",
       " 'volume': 0,\n",
       " 'volumehigh': 0,\n",
       " 'volumelow': 0,\n",
       " 'time': 1707392884,\n",
       " 'digits': 2,\n",
       " 'spread': 210,\n",
       " 'spread_float': True,\n",
       " 'ticks_bookdepth': 0,\n",
       " 'trade_calc_mode': 3,\n",
       " 'trade_mode': 4,\n",
       " 'start_time': 0,\n",
       " 'expiration_time': 0,\n",
       " 'trade_stops_level': 0,\n",
       " 'trade_freeze_level': 0,\n",
       " 'trade_exemode': 2,\n",
       " 'swap_mode': 3,\n",
       " 'swap_rollover3days': 5,\n",
       " 'margin_hedged_use_leg': False,\n",
       " 'expiration_mode': 15,\n",
       " 'filling_mode': 2,\n",
       " 'order_mode': 127,\n",
       " 'order_gtc_mode': 0,\n",
       " 'option_mode': 0,\n",
       " 'option_right': 0,\n",
       " 'bid': 38671.45,\n",
       " 'bidhigh': 38709.95,\n",
       " 'bidlow': 38650.95,\n",
       " 'ask': 38673.55,\n",
       " 'askhigh': 38712.05,\n",
       " 'asklow': 38653.05,\n",
       " 'last': 0.0,\n",
       " 'lasthigh': 0.0,\n",
       " 'lastlow': 0.0,\n",
       " 'volume_real': 0.0,\n",
       " 'volumehigh_real': 0.0,\n",
       " 'volumelow_real': 0.0,\n",
       " 'option_strike': 0.0,\n",
       " 'point': 0.01,\n",
       " 'trade_tick_value': 0.01,\n",
       " 'trade_tick_value_profit': 0.01,\n",
       " 'trade_tick_value_loss': 0.01,\n",
       " 'trade_tick_size': 0.01,\n",
       " 'trade_contract_size': 1.0,\n",
       " 'trade_accrued_interest': 0.0,\n",
       " 'trade_face_value': 0.0,\n",
       " 'trade_liquidity_rate': 0.0,\n",
       " 'volume_min': 0.01,\n",
       " 'volume_max': 100.0,\n",
       " 'volume_step': 0.01,\n",
       " 'volume_limit': 0.0,\n",
       " 'swap_long': -7.6899999999999995,\n",
       " 'swap_short': 2.15,\n",
       " 'margin_initial': 0.0,\n",
       " 'margin_maintenance': 0.0,\n",
       " 'session_volume': 0.0,\n",
       " 'session_turnover': 0.0,\n",
       " 'session_interest': 0.0,\n",
       " 'session_buy_orders_volume': 0.0,\n",
       " 'session_sell_orders_volume': 0.0,\n",
       " 'session_open': 38692.97,\n",
       " 'session_close': 38683.39,\n",
       " 'session_aw': 0.0,\n",
       " 'session_price_settlement': 0.0,\n",
       " 'session_price_limit_min': 0.0,\n",
       " 'session_price_limit_max': 0.0,\n",
       " 'margin_hedged': 0.0,\n",
       " 'price_change': -0.0309,\n",
       " 'price_volatility': 0.0,\n",
       " 'price_theoretical': 0.0,\n",
       " 'price_greeks_delta': 0.0,\n",
       " 'price_greeks_theta': 0.0,\n",
       " 'price_greeks_gamma': 0.0,\n",
       " 'price_greeks_vega': 0.0,\n",
       " 'price_greeks_rho': 0.0,\n",
       " 'price_greeks_omega': 0.0,\n",
       " 'price_sensitivity': 0.0,\n",
       " 'basis': '',\n",
       " 'category': '',\n",
       " 'currency_base': 'USD',\n",
       " 'currency_profit': 'USD',\n",
       " 'currency_margin': 'USD',\n",
       " 'bank': 'Tickmill',\n",
       " 'description': 'US Wall Street 30 Index',\n",
       " 'exchange': '',\n",
       " 'formula': '',\n",
       " 'isin': '',\n",
       " 'name': 'US30',\n",
       " 'page': '',\n",
       " 'path': 'CFD-2\\\\US30'}"
      ]
     },
     "execution_count": 99,
     "metadata": {},
     "output_type": "execute_result"
    }
   ],
   "source": [
    "dt"
   ]
  },
  {
   "cell_type": "code",
   "execution_count": 103,
   "metadata": {},
   "outputs": [
    {
     "data": {
      "text/plain": [
       "100000"
      ]
     },
     "execution_count": 103,
     "metadata": {},
     "output_type": "execute_result"
    }
   ],
   "source": [
    "round(1/dt['point'])"
   ]
  },
  {
   "cell_type": "code",
   "execution_count": 2,
   "metadata": {},
   "outputs": [
    {
     "data": {
      "text/plain": [
       "45"
      ]
     },
     "execution_count": 2,
     "metadata": {},
     "output_type": "execute_result"
    }
   ],
   "source": [
    "round(44.6)"
   ]
  },
  {
   "cell_type": "code",
   "execution_count": 41,
   "metadata": {},
   "outputs": [],
   "source": [
    "from skpy import Skype\n",
    "\n",
    "\n",
    "\n",
    "user = 'sourav@purealphaventures.com'\n",
    "pwd = 'Inno1691@1'\n",
    "skype_connect = Skype(user, pwd)\n",
    "\n",
    "\n",
    "\n",
    "\n",
    "# Function to send Skype Notification\n",
    "def SendSkypeNotification(message , skype_connect):\n",
    "    try:\n",
    "        algo_trading_group = skype_connect.chats[\"19:10ccdc3f3fe74107b0bab4c9994f892a@thread.skype\"]\n",
    "        algo_trading_group.sendMsg(message)\n",
    "        \n",
    "    except Exception as e:\n",
    "        print(e)\n",
    "        user = 'sourav@purealphaventures.com'\n",
    "        pwd = 'Inno1691@1'\n",
    "        skype_connect = Skype(user, pwd)\n",
    "        algo_trading_group =skype_connect.chats[\"19:10ccdc3f3fe74107b0bab4c9994f892a@thread.skype\"]\n",
    "        algo_trading_group.sendMsg(message)\n",
    "        "
   ]
  },
  {
   "cell_type": "code",
   "execution_count": 42,
   "metadata": {},
   "outputs": [],
   "source": [
    "SendSkypeNotification('testing' , skype_connect)"
   ]
  },
  {
   "cell_type": "code",
   "execution_count": 29,
   "metadata": {},
   "outputs": [
    {
     "name": "stdout",
     "output_type": "stream",
     "text": [
      "19:c2876eeed88142248570b261fac02e5f@thread.skype\n",
      "\n",
      "\n",
      "\n",
      "19:e6e97b23560f4487be4743dffc61b1d9@thread.skype\n",
      "\n",
      "\n",
      "\n",
      "19:10ccdc3f3fe74107b0bab4c9994f892a@thread.skype\n",
      "\n",
      "\n",
      "\n",
      "8:live:.cid.f59dd9d4322c9a90\n",
      "\n",
      "\n",
      "\n",
      "8:live:9a933c63ebfd69ec\n",
      "\n",
      "\n",
      "\n",
      "8:live:.cid.d1d24d1b59763a99\n",
      "\n",
      "\n",
      "\n",
      "19:7390a380be864a62a561f75769b10a1e@thread.skype\n",
      "\n",
      "\n",
      "\n",
      "8:live:chayaswaroop007\n",
      "\n",
      "\n",
      "\n",
      "8:live:.cid.ad77955e3a3d2f74\n",
      "\n",
      "\n",
      "\n",
      "19:af8462253b254e09ba764d1d1377b070@thread.skype\n",
      "\n",
      "\n",
      "\n"
     ]
    }
   ],
   "source": [
    "for chat in skype_connect.chats.recent():\n",
    "    print(chat)\n",
    "    print('\\n\\n')"
   ]
  },
  {
   "cell_type": "code",
   "execution_count": null,
   "metadata": {},
   "outputs": [],
   "source": []
  }
 ],
 "metadata": {
  "kernelspec": {
   "display_name": "Python 3",
   "language": "python",
   "name": "python3"
  },
  "language_info": {
   "codemirror_mode": {
    "name": "ipython",
    "version": 3
   },
   "file_extension": ".py",
   "mimetype": "text/x-python",
   "name": "python",
   "nbconvert_exporter": "python",
   "pygments_lexer": "ipython3",
   "version": "3.10.10"
  }
 },
 "nbformat": 4,
 "nbformat_minor": 2
}
